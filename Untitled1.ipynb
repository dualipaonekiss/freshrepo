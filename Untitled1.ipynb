{
 "cells": [
  {
   "cell_type": "code",
   "execution_count": null,
   "id": "8019e421-04e3-4302-88b9-2524cfb5e9b2",
   "metadata": {},
   "outputs": [],
   "source": [
    "sepal length (cm)\tsepal width (cm)\tpetal length (cm)\tpetal width (cm)\n",
    "0\t5.1\t3.5\t1.4\t0.2\n",
    "1\t4.9\t3.0\t1.4\t0.2\n",
    "2\t4.7\t3.2\t1.3\t0.2\n",
    "3\t4.6\t3.1\t1.5\t0.2\n",
    "4\t5.0\t3.6\t1.4\t0.2"
   ]
  },
  {
   "cell_type": "code",
   "execution_count": null,
   "id": "eb429e44-adea-4918-ba20-2914b4de66b1",
   "metadata": {},
   "outputs": [],
   "source": [
    "target_zip= dict(zip(set(dataset.target), dataset.target_names))\n",
    "df[\"target\"] = dataset.target\n",
    "df[\"target_names\"] = df[\"target\"].map(target_zip)\n",
    "\n",
    "print(df.shape)\n",
    "df.head()"
   ]
  },
  {
   "cell_type": "code",
   "execution_count": null,
   "id": "58ed2ad1-bffc-4ff9-a607-0e3d795ea831",
   "metadata": {},
   "outputs": [],
   "source": [
    "X_train_test,Y_train_test,Y_trin"
   ]
  },
  {
   "cell_type": "code",
   "execution_count": null,
   "id": "13bf343a-0cd3-4931-a86c-4ff7a90193ea",
   "metadata": {},
   "outputs": [],
   "source": [
    "def information_gain(label, left_idx, right_idx, impurity): \n",
    "    \"\"\"\n",
    "    For each node of the tree, the information gain \"represents the\n",
    "    expected amount of information that would be needed to specify whether\n",
    "    a new instance should be classified yes or no, given that the example\n",
    "    reached that node. (Source: Wikipedia)\n",
    "    \n",
    "    Inputs\n",
    "    left: The values that met the conditions of the current node\n",
    "    right: The values that failed to meet the conditions of the current noode\n",
    "    gini_impurity: the uncertainty at the current node\n",
    "    \n",
    "    Outputs\n",
    "    info_gain: The information gain at the node\n",
    "    \"\"\"\n",
    "    \n",
    "    p = float(len(left_idx)) / (len(left_idx) + len(right_idx))\n",
    "    info_gain = impurity - p * gini_impurity(label, left_idx) - (1 - p) * gini_impurity(label, right_idx)\n",
    "    return info_gain"
   ]
  },
  {
   "cell_type": "code",
   "execution_count": null,
   "id": "f430bada-d036-4e53-9f82-a2095e659a86",
   "metadata": {},
   "outputs": [],
   "source": [
    "class Decision_Node:\n",
    "    \"\"\"\n",
    "    A Decision Node asks a question.\n",
    "\n",
    "    This holds a reference to the question, and to the two child nodes.\n",
    "    \"\"\"\n",
    "\n",
    "    def __init__(self,\n",
    "                 column,\n",
    "                 value,\n",
    "                 true_branch,\n",
    "                 false_branch):\n",
    "        self.column = column\n",
    "        self.value = value\n",
    "        self.true_branch = true_branch\n",
    "        self.false_branch = false_branch"
   ]
  },
  {
   "cell_type": "code",
   "execution_count": null,
   "id": "067ecc5d-3fdb-4527-adb1-dd134acda144",
   "metadata": {},
   "outputs": [],
   "source": [
    "class decision node\n",
    "\n",
    "  def_init_(self,coloum,value,true_branch,false_branch):\n",
    "        self.coloum = coloum\n",
    "        self.value  = value\n",
    "        self.true_branch =true_branch\n",
    "        self.false_branch =false"
   ]
  },
  {
   "cell_type": "code",
   "execution_count": null,
   "id": "693d7615-fbf1-4b44-9043-9d7055499e05",
   "metadata": {},
   "outputs": [],
   "source": [
    "def build_tree(df, label, idx): \n",
    "    \"\"\"\n",
    "    Recursively Builds the tree until is leaf is pure. \n",
    "    \n",
    "    Input \n",
    "    df: the training data\n",
    "    label: the target labels\n",
    "    idx: the indexes \n",
    "    \n",
    "    Output\n",
    "    best_col: the best column \n",
    "    best_value: the value of the column that minimizes impurity \n",
    "    true_branch: the true branch \n",
    "    false_branch: the false branch \n",
    "    \"\"\"\n",
    "    best_gain, best_col, best_value = find_best_split(df, label, idx)\n",
    "    \n",
    "    if best_gain == 0: \n",
    "        return Leaf(label, label.loc[idx].index)\n",
    "    \n",
    "    left_idx, right_idx = partition(df.loc[idx], best_col, best_value)\n",
    "    \n",
    "    true_branch = build_tree(df, label, left_idx)\n",
    "    \n",
    "    false_branch = build_tree(df, label, right_idx)\n",
    "    \n",
    "    return Decision_Node(best_col, best_value, true_branch, false_branch)"
   ]
  },
  {
   "cell_type": "code",
   "execution_count": null,
   "id": "37d97130-40b1-4675-86f5-ca24a81459b3",
   "metadata": {},
   "outputs": [],
   "source": [
    "class decision node\n",
    "\n",
    "  def_init_(self,coloum,value,true_branch,false_branch):\n",
    "        self.coloum = coloum\n",
    "        self.value  = value\n",
    "        self.true_branch =true_branch \n",
    "        self.false_branch =false\n",
    "        "
   ]
  },
  {
   "cell_type": "code",
   "execution_count": 4,
   "id": "e1a3b1de-c255-403c-b536-569b705a15b6",
   "metadata": {},
   "outputs": [
    {
     "ename": "SyntaxError",
     "evalue": "invalid syntax (4119557952.py, line 1)",
     "output_type": "error",
     "traceback": [
      "\u001b[1;36m  Input \u001b[1;32mIn [4]\u001b[1;36m\u001b[0m\n\u001b[1;33m    Dad =[\"name\":\"U Ba\",\"age\":52}\u001b[0m\n\u001b[1;37m                ^\u001b[0m\n\u001b[1;31mSyntaxError\u001b[0m\u001b[1;31m:\u001b[0m invalid syntax\n"
     ]
    }
   ],
   "source": [
    "Dad =[\"name\":\"U Ba\",\"age\":52}\n",
    "Mon =[\"name\":\"Daw mya\",\"age\":50]\n",
    "parent=(\"Dad\":\"Dad\",\"Mon\":\"Mon\")\n",
    "print(parent(\"Mon\"(\"age\")))      "
   ]
  },
  {
   "cell_type": "code",
   "execution_count": 5,
   "id": "0e595f5f-71c5-401a-8944-f588f49b8de1",
   "metadata": {},
   "outputs": [
    {
     "ename": "SyntaxError",
     "evalue": "invalid syntax (2869401906.py, line 1)",
     "output_type": "error",
     "traceback": [
      "\u001b[1;36m  Input \u001b[1;32mIn [5]\u001b[1;36m\u001b[0m\n\u001b[1;33m    Dad =[\"name\":\"U Ba\",\"age\":52]\u001b[0m\n\u001b[1;37m                ^\u001b[0m\n\u001b[1;31mSyntaxError\u001b[0m\u001b[1;31m:\u001b[0m invalid syntax\n"
     ]
    }
   ],
   "source": [
    "Dad =[\"name\":\"U Ba\",\"age\":52]\n",
    "Mon=[\"name\":\"Daw mya\",\"age\":50]\n",
    "parent=(\"Dad\":\"Dad\",\"Mon\":\"Mon\"]\n",
    "        print(parent(\"Mon\")))"
   ]
  },
  {
   "cell_type": "code",
   "execution_count": 8,
   "id": "decb4495-901a-4425-ab8f-c4f8f301ee33",
   "metadata": {},
   "outputs": [],
   "source": [
    "def square(a):\n",
    "    c = 1\n",
    "    b = a*a+c\n",
    "    print(a,\"square and plus 1 is \",b)\n",
    "    square(5)\n"
   ]
  },
  {
   "cell_type": "code",
   "execution_count": null,
   "id": "d68378f3-b85e-440c-b2b2-5a9c7597213d",
   "metadata": {},
   "outputs": [],
   "source": [
    "def square(a)\n",
    "    c = 1\n",
    "    b =a*a+c\n",
    "    print(a,\"square and plus 1 is\",b)\n",
    "      "
   ]
  },
  {
   "cell_type": "code",
   "execution_count": 9,
   "id": "df8366d5-42a3-415f-a18e-a92432259de4",
   "metadata": {},
   "outputs": [
    {
     "data": {
      "text/plain": [
       "3"
      ]
     },
     "execution_count": 9,
     "metadata": {},
     "output_type": "execute_result"
    }
   ],
   "source": [
    "def add (a,b):\n",
    "    c = a+b\n",
    "    return(c)\n",
    "\n",
    "add(1,2)"
   ]
  },
  {
   "cell_type": "code",
   "execution_count": 10,
   "id": "9cf15ed5-8929-45fd-ba2c-3f81f77c7f1d",
   "metadata": {},
   "outputs": [
    {
     "data": {
      "text/plain": [
       "'kaungkaung'"
      ]
     },
     "execution_count": 10,
     "metadata": {},
     "output_type": "execute_result"
    }
   ],
   "source": [
    "add(\"kaung\",\"kaung\")"
   ]
  },
  {
   "cell_type": "code",
   "execution_count": 11,
   "id": "ccf03a19-8994-4d31-8dbc-bdce4259989c",
   "metadata": {},
   "outputs": [
    {
     "name": "stdout",
     "output_type": "stream",
     "text": [
      "[1, 2, 3, 4, 5]\n"
     ]
    }
   ],
   "source": [
    "a =[1,2,3,4,5,]\n",
    "print(a)"
   ]
  },
  {
   "cell_type": "code",
   "execution_count": 12,
   "id": "56c85a01-bd64-4879-aefb-f2935c46b2a6",
   "metadata": {},
   "outputs": [
    {
     "data": {
      "text/plain": [
       "15"
      ]
     },
     "execution_count": 12,
     "metadata": {},
     "output_type": "execute_result"
    }
   ],
   "source": [
    "sum(a)"
   ]
  },
  {
   "cell_type": "code",
   "execution_count": 13,
   "id": "1b6e24e1-5cf0-48d0-b244-f843bffc52a2",
   "metadata": {},
   "outputs": [
    {
     "data": {
      "text/plain": [
       "3.0"
      ]
     },
     "execution_count": 13,
     "metadata": {},
     "output_type": "execute_result"
    }
   ],
   "source": [
    "sum(a)/len(a)"
   ]
  },
  {
   "cell_type": "code",
   "execution_count": 14,
   "id": "723bfb6e-c959-4db6-8528-4923652bafec",
   "metadata": {},
   "outputs": [
    {
     "data": {
      "text/plain": [
       "1"
      ]
     },
     "execution_count": 14,
     "metadata": {},
     "output_type": "execute_result"
    }
   ],
   "source": [
    "min(a)"
   ]
  },
  {
   "cell_type": "code",
   "execution_count": 15,
   "id": "84f201c0-1727-4585-9824-a70dd1cb6dcf",
   "metadata": {},
   "outputs": [
    {
     "data": {
      "text/plain": [
       "5"
      ]
     },
     "execution_count": 15,
     "metadata": {},
     "output_type": "execute_result"
    }
   ],
   "source": [
    "max(a)"
   ]
  },
  {
   "cell_type": "code",
   "execution_count": 16,
   "id": "d4a9b72a-2fb7-4a87-a7f3-6668b0828ee5",
   "metadata": {},
   "outputs": [
    {
     "data": {
      "text/plain": [
       "{1, 2, 3, 4, 5}"
      ]
     },
     "execution_count": 16,
     "metadata": {},
     "output_type": "execute_result"
    }
   ],
   "source": [
    "set(a)"
   ]
  },
  {
   "cell_type": "code",
   "execution_count": 17,
   "id": "fbfe9027-85be-485f-abae-57f43c834ea9",
   "metadata": {},
   "outputs": [
    {
     "data": {
      "text/plain": [
       "list"
      ]
     },
     "execution_count": 17,
     "metadata": {},
     "output_type": "execute_result"
    }
   ],
   "source": [
    "type(a)"
   ]
  },
  {
   "cell_type": "code",
   "execution_count": 20,
   "id": "d4fe47df-9b74-4fe3-9c28-580b7bbc7a74",
   "metadata": {},
   "outputs": [
    {
     "ename": "SyntaxError",
     "evalue": "invalid syntax (4253706450.py, line 3)",
     "output_type": "error",
     "traceback": [
      "\u001b[1;36m  Input \u001b[1;32mIn [20]\u001b[1;36m\u001b[0m\n\u001b[1;33m    if (a>b)\u001b[0m\n\u001b[1;37m            ^\u001b[0m\n\u001b[1;31mSyntaxError\u001b[0m\u001b[1;31m:\u001b[0m invalid syntax\n"
     ]
    }
   ],
   "source": [
    "def  isgreather(a):\n",
    "    b = 5\n",
    "    if (a>b)\n",
    "     print(\"greather\")\n",
    "    else:\n",
    "        print(\"equal\"or \"smaller\")\n",
    "isgreather(6)"
   ]
  },
  {
   "cell_type": "code",
   "execution_count": 25,
   "id": "0a356757-a380-4a01-8523-45542bcec4c7",
   "metadata": {},
   "outputs": [
    {
     "name": "stdout",
     "output_type": "stream",
     "text": [
      "greather\n"
     ]
    }
   ],
   "source": [
    "def isgreather(a):\n",
    "    c = 5\n",
    "    if (a>c):\n",
    "       print(\"greather\")\n",
    "    else:\n",
    "            print(\"equal\"or \"small\")\n",
    "isgreather(6)"
   ]
  },
  {
   "cell_type": "code",
   "execution_count": 30,
   "id": "79c9a4b3-6348-4159-9343-2ec65fe2df7e",
   "metadata": {},
   "outputs": [
    {
     "ename": "IndentationError",
     "evalue": "unexpected indent (2435813274.py, line 3)",
     "output_type": "error",
     "traceback": [
      "\u001b[1;36m  Input \u001b[1;32mIn [30]\u001b[1;36m\u001b[0m\n\u001b[1;33m    if (a>b):\u001b[0m\n\u001b[1;37m    ^\u001b[0m\n\u001b[1;31mIndentationError\u001b[0m\u001b[1;31m:\u001b[0m unexpected indent\n"
     ]
    }
   ],
   "source": [
    "def isgreather(a):\n",
    "   b = 5\n",
    "    if (a>b):\n",
    "        print(\"greather\")\n",
    "        else:\n",
    "            print(\"equal\"or \"smaller\")\n",
    "isgreather(6)"
   ]
  },
  {
   "cell_type": "code",
   "execution_count": 33,
   "id": "73ee2987-0dcd-4d2d-ad5d-a8e45efdd43d",
   "metadata": {},
   "outputs": [
    {
     "name": "stdout",
     "output_type": "stream",
     "text": [
      "greather\n"
     ]
    }
   ],
   "source": [
    "def isgreather(a):\n",
    "    b = 5\n",
    "    if (a>b):\n",
    "      print(\"greather\")\n",
    "    else:\n",
    "        print(\"equal\" or\"smaller\")\n",
    "isgreather(6)"
   ]
  },
  {
   "cell_type": "code",
   "execution_count": null,
   "id": "7968a2af-4b04-4b8e-9d74-e85c2d240fe3",
   "metadata": {},
   "outputs": [],
   "source": [
    "def isgreather(a):\n",
    "    b = 5\n",
    "    if (a>b):\n",
    "        print(\"greather\")\n",
    "    else:\n",
    "        print(\"equal\" or \"smaller\")"
   ]
  },
  {
   "cell_type": "code",
   "execution_count": null,
   "id": "72a39d37-e55e-4267-ab48-ccd7dced75ce",
   "metadata": {},
   "outputs": [],
   "source": [
    "def assign_clusters(centroids, cluster_array):\n",
    "    clusters = []\n",
    "    for i in range(cluster_array.shape[0]):\n",
    "        distances = []\n",
    "        for centroid in centroids:\n",
    "            distances.append(calc_distance(centroid, \n",
    "                                           cluster_array[i]))\n",
    "        cluster = [z for z, val in enumerate(distances) if val==min(distances)]\n",
    "        clusters.append(cluster[0])\n",
    "    return clusters"
   ]
  },
  {
   "cell_type": "code",
   "execution_count": null,
   "id": "e247c641-140a-44e5-b38a-a07e95d326ed",
   "metadata": {},
   "outputs": [],
   "source": [
    "def assign_clusters(centroids, cluster_array):\n",
    "    clusters = []\n",
    "    for i in range(cluster_array.shape[0]):\n",
    "        distances = []\n",
    "        for centroid in centroids:\n",
    "            distances.append(calc_distance(centroid, \n",
    "                                           cluster_array[i]))\n",
    "        cluster = [z for z, val in enumerate(distances) if val==min(distances)]\n",
    "        clusters.append(cluster[0])\n",
    "    return clusters"
   ]
  },
  {
   "cell_type": "code",
   "execution_count": null,
   "id": "f3fe7d1b-0dd1-4e86-a103-8fffca44af65",
   "metadata": {},
   "outputs": [],
   "source": [
    "cluster_data = titanic[['Fare','Age']].copy(deep=True)\n",
    "cluster_data.dropna(axis=0, inplace=True)\n",
    "cluster_data.sort_values(by=['Fare','Age'], inplace=True)\n",
    "cluster_array = np.array(cluster_data)"
   ]
  },
  {
   "cell_type": "code",
   "execution_count": null,
   "id": "6b0edf5d-eb7e-47f4-bed8-4e5d3f1e0774",
   "metadata": {},
   "outputs": [],
   "source": [
    "def assign_clusters(centroids, cluster_array):\n",
    "    clusters = []\n",
    "    for i in range(cluster_array.shape[0]):\n",
    "        distances = []\n",
    "        for centroid in centroids:\n",
    "            distances.append(calc_distance(centroid, \n",
    "                                           cluster_array[i]))\n",
    "        cluster = [z for z, val in enumerate(distances) if val==min(distances)]\n",
    "        clusters.append(cluster[0])\n",
    "    return clusters"
   ]
  },
  {
   "cell_type": "code",
   "execution_count": null,
   "id": "ea31069a-5951-4164-9bf0-ddd702be5d99",
   "metadata": {},
   "outputs": [],
   "source": [
    "def assign_clusters(centroids,cluster_arry)\n",
    "     cluster = []\n",
    "      for i in range(cluster_arry.shape[0]:\n",
    "         distance = []\n",
    "         for centroid in centroids:\n",
    "             distance.append(cal_distance(centroid,\n",
    "                                           cluster_arry[i]))\n",
    "                \n",
    "            cluster = [z for z  z, val in enumerate(distances) if val==min(distances)] \n",
    "            clusters.append(cluster[0])\n",
    "        return clusters."
   ]
  },
  {
   "cell_type": "code",
   "execution_count": null,
   "id": "f9d6349b-7cf1-407d-b74c-8971e11c54c7",
   "metadata": {},
   "outputs": [],
   "source": [
    "# Preprocessing Input data\n",
    "data = pd.read_csv('data.csv')\n",
    "X = data.iloc[:, 0]\n",
    "Y = data.iloc[:, 1]\n",
    "plt.scatter(X, Y)\n",
    "plt.show()"
   ]
  },
  {
   "cell_type": "code",
   "execution_count": 2,
   "id": "bb549852-7b7f-4e0e-8217-802fec4c04ef",
   "metadata": {},
   "outputs": [
    {
     "name": "stdout",
     "output_type": "stream",
     "text": [
      "<class 'str'>\n"
     ]
    }
   ],
   "source": [
    "name =\"kaung kaung\"\n",
    "age  =22\n",
    "height =5.5\n",
    "print(type(name))"
   ]
  },
  {
   "cell_type": "code",
   "execution_count": 3,
   "id": "6fff763e-dae4-43e5-9e28-a216326dec83",
   "metadata": {},
   "outputs": [
    {
     "name": "stdout",
     "output_type": "stream",
     "text": [
      "<class 'int'>\n"
     ]
    }
   ],
   "source": [
    "print(type(age))"
   ]
  },
  {
   "cell_type": "code",
   "execution_count": 5,
   "id": "43f0936d-9c1b-43c8-ba05-7d3b0cfd05d0",
   "metadata": {},
   "outputs": [
    {
     "name": "stdout",
     "output_type": "stream",
     "text": [
      "5.5\n"
     ]
    }
   ],
   "source": [
    "print(height)"
   ]
  },
  {
   "cell_type": "code",
   "execution_count": 1,
   "id": "0e430b5b-410c-45a7-b24c-bee70a305c80",
   "metadata": {},
   "outputs": [
    {
     "name": "stdout",
     "output_type": "stream",
     "text": [
      "137\n"
     ]
    }
   ],
   "source": [
    "num =101\n",
    "print(num+36)"
   ]
  },
  {
   "cell_type": "code",
   "execution_count": null,
   "id": "61b0aa60-ba64-4f9d-a6a8-5f210fb368d0",
   "metadata": {},
   "outputs": [],
   "source": [
    "mark =35"
   ]
  },
  {
   "cell_type": "code",
   "execution_count": null,
   "id": "05fe3c84-8019-46c4-8fd8-c8b2ff49ec21",
   "metadata": {},
   "outputs": [],
   "source": [
    "if mark>80:\n",
    "     print(\"A\")\n",
    "else:\n",
    "     if mark>60:\n",
    "        print(\"B\")\n",
    "else: \n",
    "      if mark>50:\n",
    "        print(\"C\")\n",
    "else:  \n",
    "       if mark>40:\n",
    "            print(\"D\") "
   ]
  },
  {
   "cell_type": "code",
   "execution_count": 2,
   "id": "e5e115fd-c8ca-4bb1-bae2-c5cc10ab55c4",
   "metadata": {},
   "outputs": [
    {
     "name": "stdout",
     "output_type": "stream",
     "text": [
      "[60, 70, 80]\n"
     ]
    }
   ],
   "source": [
    "mymark = [60,70,80]\n",
    "print(mymark)"
   ]
  },
  {
   "cell_type": "code",
   "execution_count": 6,
   "id": "bf617936-1cc6-438d-958b-ffa81203c7f5",
   "metadata": {},
   "outputs": [
    {
     "name": "stdout",
     "output_type": "stream",
     "text": [
      "[60, 70, 80, 'kaung kaung']\n"
     ]
    }
   ],
   "source": [
    "mymark = [60,70,80]\n",
    "mymark.append(\"kaung kaung\")  \n",
    "print(mymark)"
   ]
  },
  {
   "cell_type": "code",
   "execution_count": 8,
   "id": "bdb615f3-4a07-4f86-945f-a9b11cb4912e",
   "metadata": {},
   "outputs": [
    {
     "ename": "SyntaxError",
     "evalue": "invalid syntax (3968634183.py, line 1)",
     "output_type": "error",
     "traceback": [
      "\u001b[1;36m  Input \u001b[1;32mIn [8]\u001b[1;36m\u001b[0m\n\u001b[1;33m    mymark = [\"mya\" :50,\"eng\" :60,\"math\" :70]\u001b[0m\n\u001b[1;37m                    ^\u001b[0m\n\u001b[1;31mSyntaxError\u001b[0m\u001b[1;31m:\u001b[0m invalid syntax\n"
     ]
    }
   ],
   "source": [
    "mymark = [\"mya\": 50,\"eng\" :60,\"math\" :70]\n",
    "print(mymark)"
   ]
  },
  {
   "cell_type": "code",
   "execution_count": 10,
   "id": "ae63373d-9428-4a81-9e63-ed4d1e67bf0f",
   "metadata": {},
   "outputs": [
    {
     "ename": "SyntaxError",
     "evalue": "invalid syntax (1256571837.py, line 1)",
     "output_type": "error",
     "traceback": [
      "\u001b[1;36m  Input \u001b[1;32mIn [10]\u001b[1;36m\u001b[0m\n\u001b[1;33m    mymark =['mya' : 60,'eng' : 50,'math' : 90]\u001b[0m\n\u001b[1;37m                   ^\u001b[0m\n\u001b[1;31mSyntaxError\u001b[0m\u001b[1;31m:\u001b[0m invalid syntax\n"
     ]
    }
   ],
   "source": [
    "mymark =['mya' : 60,'eng' : 50,'math' : 90]\n",
    "print(mymark)"
   ]
  },
  {
   "cell_type": "code",
   "execution_count": 11,
   "id": "ec1a9d17-7e51-45e2-bb59-34149b611d2d",
   "metadata": {},
   "outputs": [
    {
     "ename": "SyntaxError",
     "evalue": "invalid syntax (214862754.py, line 1)",
     "output_type": "error",
     "traceback": [
      "\u001b[1;36m  Input \u001b[1;32mIn [11]\u001b[1;36m\u001b[0m\n\u001b[1;33m    mymark.append=['bio' : 10]\u001b[0m\n\u001b[1;37m                         ^\u001b[0m\n\u001b[1;31mSyntaxError\u001b[0m\u001b[1;31m:\u001b[0m invalid syntax\n"
     ]
    }
   ],
   "source": [
    "mymark.append=['bio' : 10]\n",
    "print(mymark)"
   ]
  },
  {
   "cell_type": "code",
   "execution_count": 12,
   "id": "631bf258-bc0e-444b-a3e3-3870954438b8",
   "metadata": {},
   "outputs": [
    {
     "name": "stdout",
     "output_type": "stream",
     "text": [
      "{'eng': 68, 'math': 70, 'bio': 80}\n"
     ]
    }
   ],
   "source": [
    "myMark = {'eng' : 68, 'math':70,'bio':80}\n",
    "print(myMark)"
   ]
  },
  {
   "cell_type": "code",
   "execution_count": 14,
   "id": "a031d59f-642e-4177-9faf-6ae3a8a16abc",
   "metadata": {},
   "outputs": [
    {
     "name": "stdout",
     "output_type": "stream",
     "text": [
      "{'eng': 68, 'math': 70, 'bio': 80, 'Mya': 80}\n"
     ]
    }
   ],
   "source": [
    "myMark['Mya'] = 80\n",
    "print(myMark)"
   ]
  },
  {
   "cell_type": "code",
   "execution_count": 15,
   "id": "8727c300-9118-4c67-8655-e787e49d51e8",
   "metadata": {},
   "outputs": [
    {
     "name": "stdout",
     "output_type": "stream",
     "text": [
      "{80, 90, 60}\n"
     ]
    }
   ],
   "source": [
    "mydata = set()\n",
    "mydata.add(90)\n",
    "mydata.add(80)\n",
    "mydata.add(60)\n",
    "print(mydata)\n"
   ]
  },
  {
   "cell_type": "code",
   "execution_count": 1,
   "id": "687d8038-4f62-44ca-8305-56ce2e5319f6",
   "metadata": {},
   "outputs": [
    {
     "name": "stdout",
     "output_type": "stream",
     "text": [
      "['apple', 'orange', 'lemon']\n"
     ]
    }
   ],
   "source": [
    "friuts =[\"apple\",\"orange\",\"lemon\"]\n",
    "print(friuts)"
   ]
  },
  {
   "cell_type": "code",
   "execution_count": 5,
   "id": "89a95200-0622-460e-9b19-0ea3824620cb",
   "metadata": {},
   "outputs": [],
   "source": [
    "friuts =[\"apple\",\"orange\",\"lemon\"]\n",
    "for x in friuts:\n",
    "    if x == \"banana\":\n",
    "        print(x)"
   ]
  },
  {
   "cell_type": "code",
   "execution_count": null,
   "id": "3357d9f2-1c8a-4afe-97ba-1b9e5d54ecd8",
   "metadata": {},
   "outputs": [],
   "source": [
    "adj =[\"red\",\"big\",\"tasty\"]\n",
    "friuts =[\"apple\",\"orange\",\"lemon\"]\n",
    "  for x in adj:\n",
    "for y in adj:\n",
    "    print(x,y)"
   ]
  },
  {
   "cell_type": "code",
   "execution_count": null,
   "id": "78161757-8ca5-42fa-a476-d7dad537bfe6",
   "metadata": {},
   "outputs": [],
   "source": [
    "friuts = [\"read\",\"big\",\"tasty\"]\n",
    "for x in friuts:\n",
    "    if x ==\"banana\":\n",
    "          print(x)    "
   ]
  },
  {
   "cell_type": "code",
   "execution_count": null,
   "id": "cce8466d-7c0a-4e39-ba74-74c02842ff67",
   "metadata": {},
   "outputs": [],
   "source": [
    "def my_function()\n",
    "  print(\"Hello from a function)\n",
    "my function"
   ]
  },
  {
   "cell_type": "code",
   "execution_count": 4,
   "id": "1fc8e319-ca4f-4bc7-b999-d8ac5b8e6459",
   "metadata": {},
   "outputs": [
    {
     "ename": "SyntaxError",
     "evalue": "invalid syntax (2539553715.py, line 1)",
     "output_type": "error",
     "traceback": [
      "\u001b[1;36m  Input \u001b[1;32mIn [4]\u001b[1;36m\u001b[0m\n\u001b[1;33m    def my_function\u001b[0m\n\u001b[1;37m                   ^\u001b[0m\n\u001b[1;31mSyntaxError\u001b[0m\u001b[1;31m:\u001b[0m invalid syntax\n"
     ]
    }
   ],
   "source": [
    "def my_function\n",
    "   print(\"name\" + \"fename\")\n",
    "my_function(\"kaung\") \n",
    "my_function(\"kyaw\")\n",
    "my_function(\"Email\")"
   ]
  },
  {
   "cell_type": "code",
   "execution_count": 5,
   "id": "5706cfbb-2163-4c23-adf9-b58dd88279a2",
   "metadata": {},
   "outputs": [
    {
     "name": "stdout",
     "output_type": "stream",
     "text": [
      "fnameResfns\n",
      "fnameResfns\n",
      "fnameResfns\n"
     ]
    }
   ],
   "source": [
    "def my_function(fname):\n",
    "    print(\"fname\" + \"Resfns\")\n",
    "my_function(\"kaung\")\n",
    "my_function(\"gmail\")\n",
    "my_function(\"kmean\")"
   ]
  },
  {
   "cell_type": "code",
   "execution_count": 6,
   "id": "7f5c9ba7-a493-46aa-9dc4-58b99b6b4cda",
   "metadata": {},
   "outputs": [
    {
     "name": "stdout",
     "output_type": "stream",
     "text": [
      "kaungkaung\n",
      "kaungkaung\n",
      "kaungkaung\n"
     ]
    }
   ],
   "source": [
    "def my_function(kaung):\n",
    "    print(\"kaung\" + \"kaung\")\n",
    "my_function(\"kaung\")\n",
    "my_function(\"gmail\")\n",
    "my_function(\"kmean\")"
   ]
  },
  {
   "cell_type": "code",
   "execution_count": 1,
   "id": "f1b69b12-f6a3-4f99-aae5-04cd90a0b851",
   "metadata": {},
   "outputs": [
    {
     "name": "stdout",
     "output_type": "stream",
     "text": [
      "fnameResfns\n",
      "fnameResfns\n",
      "fnameResfns\n"
     ]
    }
   ],
   "source": [
    "def my_function(kaung):\n",
    "      print(\"fname\" + \"Resfns\")\n",
    "my_function (\"kaung\")\n",
    "my_function (\"gmail\")\n",
    "my_function (\"kmean\") \n",
    "  "
   ]
  },
  {
   "cell_type": "code",
   "execution_count": null,
   "id": "7d5628b1-af5c-4370-b473-1638e0c1d608",
   "metadata": {},
   "outputs": [],
   "source": [
    "def my_function (kaung)"
   ]
  },
  {
   "cell_type": "code",
   "execution_count": null,
   "id": "35674d0d-2c36-4105-a49f-98b352128f05",
   "metadata": {},
   "outputs": [],
   "source": []
  },
  {
   "cell_type": "code",
   "execution_count": null,
   "id": "fff71054-06e1-40e4-be66-be8c8b3a0c16",
   "metadata": {},
   "outputs": [],
   "source": []
  }
 ],
 "metadata": {
  "kernelspec": {
   "display_name": "Python 3 (ipykernel)",
   "language": "python",
   "name": "python3"
  },
  "language_info": {
   "codemirror_mode": {
    "name": "ipython",
    "version": 3
   },
   "file_extension": ".py",
   "mimetype": "text/x-python",
   "name": "python",
   "nbconvert_exporter": "python",
   "pygments_lexer": "ipython3",
   "version": "3.9.12"
  }
 },
 "nbformat": 4,
 "nbformat_minor": 5
}
