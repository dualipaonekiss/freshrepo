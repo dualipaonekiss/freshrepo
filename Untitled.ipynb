{
 "cells": [
  {
   "cell_type": "code",
   "execution_count": 1,
   "id": "3ff5767c-8f81-4617-b359-3e2ae2f18dc0",
   "metadata": {},
   "outputs": [
    {
     "ename": "SyntaxError",
     "evalue": "invalid syntax (2595597456.py, line 2)",
     "output_type": "error",
     "traceback": [
      "\u001b[1;36m  Input \u001b[1;32mIn [1]\u001b[1;36m\u001b[0m\n\u001b[1;33m    print(using print)\u001b[0m\n\u001b[1;37m                ^\u001b[0m\n\u001b[1;31mSyntaxError\u001b[0m\u001b[1;31m:\u001b[0m invalid syntax\n"
     ]
    }
   ],
   "source": [
    "print(  )\n",
    "print(using print)\n",
    " print ('Hello world')\n",
    "    print('creative')\n",
    "print('anaconda')\n",
    "print('wellcome')\n"
   ]
  },
  {
   "cell_type": "code",
   "execution_count": null,
   "id": "9bf63f9e-91b4-47de-a7ab-7316ce9493d7",
   "metadata": {},
   "outputs": [],
   "source": []
  },
  {
   "cell_type": "code",
   "execution_count": null,
   "id": "29e54269-d2de-4071-8662-838e2f92a46c",
   "metadata": {},
   "outputs": [],
   "source": []
  },
  {
   "cell_type": "code",
   "execution_count": 3,
   "id": "9d3ea712-ca9d-4cab-a125-69dcc704243d",
   "metadata": {},
   "outputs": [
    {
     "name": "stdout",
     "output_type": "stream",
     "text": [
      "Using Type()\n"
     ]
    },
    {
     "data": {
      "text/plain": [
       "int"
      ]
     },
     "execution_count": 3,
     "metadata": {},
     "output_type": "execute_result"
    }
   ],
   "source": [
    "print('Using Type()')\n",
    "type('Welcome from AVAIRDS')\n",
    "type(1)"
   ]
  },
  {
   "cell_type": "code",
   "execution_count": 4,
   "id": "f6383631-18ae-4876-b157-9d8cb08d395e",
   "metadata": {},
   "outputs": [
    {
     "name": "stdout",
     "output_type": "stream",
     "text": [
      "20\n"
     ]
    }
   ],
   "source": [
    "type(10+10)\n",
    "print(10+10)\n",
    "\n"
   ]
  },
  {
   "cell_type": "code",
   "execution_count": 6,
   "id": "b6ab11c2-be17-45fb-a901-b89cc11dba30",
   "metadata": {},
   "outputs": [
    {
     "name": "stdout",
     "output_type": "stream",
     "text": [
      "200\n"
     ]
    }
   ],
   "source": [
    "type(100+100)\n",
    "print(100+100)\n"
   ]
  },
  {
   "cell_type": "code",
   "execution_count": null,
   "id": "71d3c09a-5ae3-4e06-b5a2-347c44ec3af8",
   "metadata": {},
   "outputs": [],
   "source": [
    "print('hello world')\n",
    "      print(50)\n",
    "   print(1.4444) "
   ]
  },
  {
   "cell_type": "code",
   "execution_count": 7,
   "id": "6342b6d2-3dd3-4ac3-a218-4f1441a675db",
   "metadata": {},
   "outputs": [
    {
     "name": "stdout",
     "output_type": "stream",
     "text": [
      "hello world\n"
     ]
    }
   ],
   "source": [
    "print('hello world')"
   ]
  },
  {
   "cell_type": "code",
   "execution_count": 8,
   "id": "5c43db62-9010-4f77-a518-498b09cb3d91",
   "metadata": {},
   "outputs": [
    {
     "name": "stdout",
     "output_type": "stream",
     "text": [
      "10000\n"
     ]
    }
   ],
   "source": [
    "print(10000)"
   ]
  },
  {
   "cell_type": "code",
   "execution_count": 9,
   "id": "3afcbcb1-13a1-4f54-bbc5-ad4db0c14c7c",
   "metadata": {},
   "outputs": [
    {
     "name": "stdout",
     "output_type": "stream",
     "text": [
      "1.225876546\n"
     ]
    }
   ],
   "source": [
    "print(1.225876546)"
   ]
  },
  {
   "cell_type": "code",
   "execution_count": 10,
   "id": "7af4f2bd-997d-493d-ac7a-15dd64d9e9b0",
   "metadata": {},
   "outputs": [
    {
     "name": "stdout",
     "output_type": "stream",
     "text": [
      "11000\n"
     ]
    }
   ],
   "source": [
    "print(1000+10000)"
   ]
  },
  {
   "cell_type": "code",
   "execution_count": 13,
   "id": "3eadb266-e75a-43f9-b797-7164505deeab",
   "metadata": {},
   "outputs": [
    {
     "name": "stdout",
     "output_type": "stream",
     "text": [
      "2\n",
      "10.2\n",
      "112\n",
      "92\n"
     ]
    }
   ],
   "source": [
    "num = 101\n",
    "\n",
    "print(102%10)\n",
    "print(102/10)\n",
    "print(102+10)\n",
    "print(102-10)"
   ]
  },
  {
   "cell_type": "code",
   "execution_count": 14,
   "id": "cdc7800f-37f0-48d4-84d4-63083c52d572",
   "metadata": {},
   "outputs": [
    {
     "name": "stdout",
     "output_type": "stream",
     "text": [
      "-2756\n",
      "50749\n",
      "0.00019636173129782144\n",
      "3298660500\n"
     ]
    }
   ],
   "source": [
    "num=500\n",
    "print(num-3256)\n",
    "print(num+50249)\n",
    "print(num/2546321)\n",
    "print(num*6597321)"
   ]
  },
  {
   "cell_type": "code",
   "execution_count": 15,
   "id": "7b112323-2a95-4f2e-92bd-22e28a207a03",
   "metadata": {},
   "outputs": [
    {
     "name": "stdout",
     "output_type": "stream",
     "text": [
      "hello\n",
      "500000\n",
      "1.365987\n"
     ]
    }
   ],
   "source": [
    "print('hello')\n",
    "print(500000)\n",
    "print(1.365987)"
   ]
  },
  {
   "cell_type": "code",
   "execution_count": 16,
   "id": "5bb2d919-3372-4029-95ad-b16917ea52cd",
   "metadata": {},
   "outputs": [
    {
     "ename": "NameError",
     "evalue": "name 'type1' is not defined",
     "output_type": "error",
     "traceback": [
      "\u001b[1;31m---------------------------------------------------------------------------\u001b[0m",
      "\u001b[1;31mNameError\u001b[0m                                 Traceback (most recent call last)",
      "Input \u001b[1;32mIn [16]\u001b[0m, in \u001b[0;36m<cell line: 2>\u001b[1;34m()\u001b[0m\n\u001b[0;32m      1\u001b[0m \u001b[38;5;28mtype\u001b[39m(\u001b[38;5;241m5000\u001b[39m\u001b[38;5;241m+\u001b[39m\u001b[38;5;241m215874\u001b[39m)\n\u001b[1;32m----> 2\u001b[0m \u001b[38;5;28mprint\u001b[39m(\u001b[43mtype1\u001b[49m)\n",
      "\u001b[1;31mNameError\u001b[0m: name 'type1' is not defined"
     ]
    }
   ],
   "source": [
    "type(5000+215874)\n",
    "print(type1)"
   ]
  },
  {
   "cell_type": "code",
   "execution_count": 17,
   "id": "cf5ba1bd-de3d-40d1-86f0-f772c9b5617a",
   "metadata": {},
   "outputs": [
    {
     "name": "stdout",
     "output_type": "stream",
     "text": [
      "2.215545\n"
     ]
    },
    {
     "ename": "TypeError",
     "evalue": "unsupported operand type(s) for +: 'NoneType' and 'int'",
     "output_type": "error",
     "traceback": [
      "\u001b[1;31m---------------------------------------------------------------------------\u001b[0m",
      "\u001b[1;31mTypeError\u001b[0m                                 Traceback (most recent call last)",
      "Input \u001b[1;32mIn [17]\u001b[0m, in \u001b[0;36m<cell line: 1>\u001b[1;34m()\u001b[0m\n\u001b[1;32m----> 1\u001b[0m \u001b[38;5;28;43mprint\u001b[39;49m\u001b[43m(\u001b[49m\u001b[38;5;241;43m2.215545\u001b[39;49m\u001b[43m)\u001b[49m\u001b[38;5;241;43m+\u001b[39;49m\u001b[43m(\u001b[49m\u001b[38;5;241;43m23645945\u001b[39;49m\u001b[43m)\u001b[49m\n",
      "\u001b[1;31mTypeError\u001b[0m: unsupported operand type(s) for +: 'NoneType' and 'int'"
     ]
    }
   ],
   "source": [
    "print(2.215545)+(23645945)\n"
   ]
  },
  {
   "cell_type": "code",
   "execution_count": null,
   "id": "e6133fb1-c38a-4795-bf04-9fa2b0693932",
   "metadata": {},
   "outputs": [],
   "source": []
  },
  {
   "cell_type": "code",
   "execution_count": 18,
   "id": "ab3e6bd7-9c73-428d-ba53-979126b1dc01",
   "metadata": {},
   "outputs": [
    {
     "ename": "SyntaxError",
     "evalue": "invalid syntax (2991177387.py, line 1)",
     "output_type": "error",
     "traceback": [
      "\u001b[1;36m  Input \u001b[1;32mIn [18]\u001b[1;36m\u001b[0m\n\u001b[1;33m    num 100\u001b[0m\n\u001b[1;37m        ^\u001b[0m\n\u001b[1;31mSyntaxError\u001b[0m\u001b[1;31m:\u001b[0m invalid syntax\n"
     ]
    }
   ],
   "source": [
    "num 100\n",
    "print(num+265)\n",
    "print(num-265488)\n",
    "print(num/66144522)\n",
    "print(num*5455432265)"
   ]
  },
  {
   "cell_type": "code",
   "execution_count": 4,
   "id": "4dfe975d-b214-47fa-9706-cd6585f865dc",
   "metadata": {},
   "outputs": [
    {
     "name": "stdout",
     "output_type": "stream",
     "text": [
      "-450\n",
      "524350\n",
      "0.03987240829346093\n",
      "117950\n"
     ]
    }
   ],
   "source": [
    "num=50\n",
    "print(num-500)\n",
    "print(num+524300)\n",
    "print(num/1254)\n",
    "print(num*2359)\n",
    "      \n"
   ]
  },
  {
   "cell_type": "code",
   "execution_count": 20,
   "id": "afbb1c79-a3f2-41b2-9265-23f1aa41cfae",
   "metadata": {},
   "outputs": [
    {
     "name": "stdout",
     "output_type": "stream",
     "text": [
      "153649\n",
      "-26496036\n",
      "3.973680991531001e-07\n",
      "569764600\n"
     ]
    }
   ],
   "source": [
    "num=100\n",
    "print(num+153549)\n",
    "print(num-26496136)\n",
    "print(num/251655833)\n",
    "print(num*5697646)"
   ]
  },
  {
   "cell_type": "code",
   "execution_count": 6,
   "id": "f36eb9f3-cc87-499a-96a5-0f296f4b8e0c",
   "metadata": {},
   "outputs": [
    {
     "ename": "IndentationError",
     "evalue": "unexpected indent (3008512923.py, line 2)",
     "output_type": "error",
     "traceback": [
      "\u001b[1;36m  Input \u001b[1;32mIn [6]\u001b[1;36m\u001b[0m\n\u001b[1;33m    if num=80\u001b[0m\n\u001b[1;37m    ^\u001b[0m\n\u001b[1;31mIndentationError\u001b[0m\u001b[1;31m:\u001b[0m unexpected indent\n"
     ]
    }
   ],
   "source": [
    "num=80\n",
    "    if num=80"
   ]
  },
  {
   "cell_type": "code",
   "execution_count": 7,
   "id": "15a5b4fe-14e4-4b6b-9ef6-30d4470e0f80",
   "metadata": {},
   "outputs": [
    {
     "ename": "IndentationError",
     "evalue": "unexpected indent (2433783932.py, line 2)",
     "output_type": "error",
     "traceback": [
      "\u001b[1;36m  Input \u001b[1;32mIn [7]\u001b[1;36m\u001b[0m\n\u001b[1;33m    if num>80\u001b[0m\n\u001b[1;37m    ^\u001b[0m\n\u001b[1;31mIndentationError\u001b[0m\u001b[1;31m:\u001b[0m unexpected indent\n"
     ]
    }
   ],
   "source": [
    "num=80\n",
    "      if num>80\n",
    "           print(\"pass with fly colour\")\n",
    "else\n",
    "    print(\"normal pass)\n",
    "          "
   ]
  },
  {
   "cell_type": "code",
   "execution_count": null,
   "id": "89f7a646-fd2a-4dda-acd0-34e8a26dc827",
   "metadata": {},
   "outputs": [],
   "source": [
    "mark =30"
   ]
  },
  {
   "cell_type": "code",
   "execution_count": 22,
   "id": "328354ae-d826-4ea1-af71-1555b07920b0",
   "metadata": {},
   "outputs": [
    {
     "ename": "SyntaxError",
     "evalue": "invalid syntax (3604623951.py, line 1)",
     "output_type": "error",
     "traceback": [
      "\u001b[1;36m  Input \u001b[1;32mIn [22]\u001b[1;36m\u001b[0m\n\u001b[1;33m    if mark>80\u001b[0m\n\u001b[1;37m              ^\u001b[0m\n\u001b[1;31mSyntaxError\u001b[0m\u001b[1;31m:\u001b[0m invalid syntax\n"
     ]
    }
   ],
   "source": [
    "   if mark>80\n",
    "    print"
   ]
  },
  {
   "cell_type": "code",
   "execution_count": null,
   "id": "6527c534-0990-4e51-b251-015e5bb5eb36",
   "metadata": {},
   "outputs": [],
   "source": [
    "num=80\n",
    "if num>80\n",
    "   print(\"pass wth fly colour\")\n",
    "    else\n",
    "     print(:norml pass)"
   ]
  },
  {
   "cell_type": "code",
   "execution_count": null,
   "id": "60afb222-bc95-4275-8e05-fc1b5a4596e0",
   "metadata": {},
   "outputs": [],
   "source": [
    "mark=30"
   ]
  },
  {
   "cell_type": "code",
   "execution_count": 24,
   "id": "1a9ef87e-327a-4fce-925d-4c26cabfb24d",
   "metadata": {},
   "outputs": [
    {
     "ename": "IndentationError",
     "evalue": "unindent does not match any outer indentation level (<tokenize>, line 3)",
     "output_type": "error",
     "traceback": [
      "\u001b[1;36m  File \u001b[1;32m<tokenize>:3\u001b[1;36m\u001b[0m\n\u001b[1;33m    if  mark>60\u001b[0m\n\u001b[1;37m    ^\u001b[0m\n\u001b[1;31mIndentationError\u001b[0m\u001b[1;31m:\u001b[0m unindent does not match any outer indentation level\n"
     ]
    }
   ],
   "source": [
    " if mark>80\n",
    "    print(\"A\")\n",
    "  if  mark>60\n",
    "    print(\"B\")\n",
    "  if   mark>40\n",
    "   print(\"c\")        \n",
    "       mark<40>\n",
    "        print(\"D\")"
   ]
  },
  {
   "cell_type": "code",
   "execution_count": 25,
   "id": "47ac86b8-6f9e-42c6-becd-fda3d12f231e",
   "metadata": {},
   "outputs": [
    {
     "ename": "SyntaxError",
     "evalue": "invalid syntax (431232459.py, line 1)",
     "output_type": "error",
     "traceback": [
      "\u001b[1;36m  Input \u001b[1;32mIn [25]\u001b[1;36m\u001b[0m\n\u001b[1;33m    x=maung maung\u001b[0m\n\u001b[1;37m            ^\u001b[0m\n\u001b[1;31mSyntaxError\u001b[0m\u001b[1;31m:\u001b[0m invalid syntax\n"
     ]
    }
   ],
   "source": [
    "x=maung maung\n",
    "y=mya mya\n",
    "print(x+y)"
   ]
  },
  {
   "cell_type": "code",
   "execution_count": null,
   "id": "7fc645e7-a85a-44d6-9888-b6d0332b2b3f",
   "metadata": {},
   "outputs": [],
   "source": [
    "x=maung maung\n",
    "y=mya mya\n",
    "print(x+y)"
   ]
  },
  {
   "cell_type": "code",
   "execution_count": 26,
   "id": "6883ce70-7492-432f-96e0-a265d752de33",
   "metadata": {},
   "outputs": [
    {
     "name": "stdout",
     "output_type": "stream",
     "text": [
      "70\n"
     ]
    }
   ],
   "source": [
    "x=20\n",
    "y=50\n",
    "print(x+y)"
   ]
  },
  {
   "cell_type": "code",
   "execution_count": 27,
   "id": "b4f14dd5-f993-4d14-b467-f683040ee2f3",
   "metadata": {},
   "outputs": [
    {
     "name": "stdout",
     "output_type": "stream",
     "text": [
      "70\n"
     ]
    },
    {
     "ename": "TypeError",
     "evalue": "unsupported operand type(s) for -: 'NoneType' and 'int'",
     "output_type": "error",
     "traceback": [
      "\u001b[1;31m---------------------------------------------------------------------------\u001b[0m",
      "\u001b[1;31mTypeError\u001b[0m                                 Traceback (most recent call last)",
      "Input \u001b[1;32mIn [27]\u001b[0m, in \u001b[0;36m<cell line: 3>\u001b[1;34m()\u001b[0m\n\u001b[0;32m      1\u001b[0m x\u001b[38;5;241m=\u001b[39m\u001b[38;5;241m20\u001b[39m\n\u001b[0;32m      2\u001b[0m y\u001b[38;5;241m=\u001b[39m\u001b[38;5;241m50\u001b[39m\n\u001b[1;32m----> 3\u001b[0m \u001b[38;5;28;43mprint\u001b[39;49m\u001b[43m(\u001b[49m\u001b[43mx\u001b[49m\u001b[38;5;241;43m+\u001b[39;49m\u001b[43my\u001b[49m\u001b[43m)\u001b[49m\u001b[38;5;241;43m-\u001b[39;49m\u001b[43mx\u001b[49m\n",
      "\u001b[1;31mTypeError\u001b[0m: unsupported operand type(s) for -: 'NoneType' and 'int'"
     ]
    }
   ],
   "source": [
    "x=20\n",
    "y=50\n",
    "print(x+y)-x"
   ]
  },
  {
   "cell_type": "code",
   "execution_count": 28,
   "id": "2c25c6ea-005c-4927-8eb9-7333388f5638",
   "metadata": {},
   "outputs": [
    {
     "name": "stdout",
     "output_type": "stream",
     "text": [
      "hello\n",
      "50\n",
      "1.0556459\n"
     ]
    }
   ],
   "source": [
    "print('hello')\n",
    "print(50)\n",
    "print(1.0556459)"
   ]
  },
  {
   "cell_type": "code",
   "execution_count": 29,
   "id": "6b781d07-a5f2-4bff-8906-79a0d1b6ff76",
   "metadata": {},
   "outputs": [
    {
     "name": "stdout",
     "output_type": "stream",
     "text": [
      "wellcome\n",
      "500547845\n",
      "1.03464568\n"
     ]
    }
   ],
   "source": [
    "print('wellcome')\n",
    "print(500547845)\n",
    "print(1.034645680)"
   ]
  },
  {
   "cell_type": "code",
   "execution_count": 30,
   "id": "d878538e-916d-400e-95c9-812291a5f7d4",
   "metadata": {},
   "outputs": [
    {
     "name": "stdout",
     "output_type": "stream",
     "text": [
      "20\n"
     ]
    }
   ],
   "source": [
    "type(10+10)\n",
    "print(10+10)"
   ]
  },
  {
   "cell_type": "code",
   "execution_count": 31,
   "id": "6b3c3540-6d06-4ef6-87db-5fdc70b8873a",
   "metadata": {},
   "outputs": [
    {
     "ename": "NameError",
     "evalue": "name 'type1' is not defined",
     "output_type": "error",
     "traceback": [
      "\u001b[1;31m---------------------------------------------------------------------------\u001b[0m",
      "\u001b[1;31mNameError\u001b[0m                                 Traceback (most recent call last)",
      "Input \u001b[1;32mIn [31]\u001b[0m, in \u001b[0;36m<cell line: 3>\u001b[1;34m()\u001b[0m\n\u001b[0;32m      1\u001b[0m \u001b[38;5;28mtype\u001b[39m(\u001b[38;5;241m10\u001b[39m\u001b[38;5;241m+\u001b[39m\u001b[38;5;241m10\u001b[39m)\n\u001b[0;32m      2\u001b[0m \u001b[38;5;28mtype\u001b[39m(\u001b[38;5;241m500\u001b[39m\u001b[38;5;241m+\u001b[39m\u001b[38;5;241m60\u001b[39m)\n\u001b[1;32m----> 3\u001b[0m \u001b[38;5;28mprint\u001b[39m(\u001b[43mtype1\u001b[49m)\n",
      "\u001b[1;31mNameError\u001b[0m: name 'type1' is not defined"
     ]
    }
   ],
   "source": [
    "type(10+10)\n",
    "type(500+60)\n",
    "print(type1)"
   ]
  },
  {
   "cell_type": "code",
   "execution_count": 3,
   "id": "2bb7f6be-d5d2-4926-adc8-1d58165e88cb",
   "metadata": {},
   "outputs": [
    {
     "ename": "IndentationError",
     "evalue": "unexpected indent (2756425091.py, line 2)",
     "output_type": "error",
     "traceback": [
      "\u001b[1;36m  Input \u001b[1;32mIn [3]\u001b[1;36m\u001b[0m\n\u001b[1;33m    if num>80\u001b[0m\n\u001b[1;37m    ^\u001b[0m\n\u001b[1;31mIndentationError\u001b[0m\u001b[1;31m:\u001b[0m unexpected indent\n"
     ]
    }
   ],
   "source": [
    "num=80\n",
    "   if num>80\n",
    "       print ('Pass with fly colour)\n",
    "if num<80\n",
    "        print(\"normal pass\")"
   ]
  },
  {
   "cell_type": "code",
   "execution_count": null,
   "id": "ed2b48a3-61a3-44de-b208-dc21fbef2ff0",
   "metadata": {},
   "outputs": [],
   "source": [
    "mark=35"
   ]
  },
  {
   "cell_type": "code",
   "execution_count": 33,
   "id": "a8c90675-f383-4b9a-8a28-f5b5dcf29abd",
   "metadata": {},
   "outputs": [
    {
     "ename": "SyntaxError",
     "evalue": "invalid syntax (1289738463.py, line 1)",
     "output_type": "error",
     "traceback": [
      "\u001b[1;36m  Input \u001b[1;32mIn [33]\u001b[1;36m\u001b[0m\n\u001b[1;33m    if num>80\u001b[0m\n\u001b[1;37m             ^\u001b[0m\n\u001b[1;31mSyntaxError\u001b[0m\u001b[1;31m:\u001b[0m invalid syntax\n"
     ]
    }
   ],
   "source": [
    "if num>80\n",
    "print (\"A\")\n",
    "if num>60\n",
    "print(\"B\")\n",
    "if num>40\n",
    "print(\"C\")"
   ]
  },
  {
   "cell_type": "code",
   "execution_count": null,
   "id": "fffcd92d-60c1-4328-be63-749518a7bedb",
   "metadata": {},
   "outputs": [],
   "source": [
    "type(x+y)\n",
    "print(x+y)\n"
   ]
  },
  {
   "cell_type": "code",
   "execution_count": 34,
   "id": "a5e5c2f8-56d4-4400-b783-4401a67a05e0",
   "metadata": {},
   "outputs": [
    {
     "ename": "SyntaxError",
     "evalue": "invalid syntax (1947192063.py, line 1)",
     "output_type": "error",
     "traceback": [
      "\u001b[1;36m  Input \u001b[1;32mIn [34]\u001b[1;36m\u001b[0m\n\u001b[1;33m    a= [10 20 30 40 50 60]\u001b[0m\n\u001b[1;37m           ^\u001b[0m\n\u001b[1;31mSyntaxError\u001b[0m\u001b[1;31m:\u001b[0m invalid syntax\n"
     ]
    }
   ],
   "source": [
    "a= [10 20 30 40 50 60]\n",
    "print (len(a))\n",
    "print (mina(a))\n",
    "print (mixa(a))"
   ]
  },
  {
   "cell_type": "code",
   "execution_count": 35,
   "id": "122fccbb-6597-4c4b-a76e-0017a61fcc1a",
   "metadata": {},
   "outputs": [
    {
     "ename": "SyntaxError",
     "evalue": "invalid syntax (1115460544.py, line 1)",
     "output_type": "error",
     "traceback": [
      "\u001b[1;36m  Input \u001b[1;32mIn [35]\u001b[1;36m\u001b[0m\n\u001b[1;33m    a=[10 20 30 40 50 60]\u001b[0m\n\u001b[1;37m          ^\u001b[0m\n\u001b[1;31mSyntaxError\u001b[0m\u001b[1;31m:\u001b[0m invalid syntax\n"
     ]
    }
   ],
   "source": [
    "a=[10 20 30 40 50 60]\n",
    "print(len(a))\n",
    "print(min(a))\n",
    "print(mix(a))"
   ]
  },
  {
   "cell_type": "code",
   "execution_count": 36,
   "id": "12971776-1a63-4831-bf1c-4cbe6a54b527",
   "metadata": {},
   "outputs": [
    {
     "name": "stdout",
     "output_type": "stream",
     "text": [
      "6\n",
      "10\n"
     ]
    },
    {
     "ename": "NameError",
     "evalue": "name 'mix' is not defined",
     "output_type": "error",
     "traceback": [
      "\u001b[1;31m---------------------------------------------------------------------------\u001b[0m",
      "\u001b[1;31mNameError\u001b[0m                                 Traceback (most recent call last)",
      "Input \u001b[1;32mIn [36]\u001b[0m, in \u001b[0;36m<cell line: 4>\u001b[1;34m()\u001b[0m\n\u001b[0;32m      2\u001b[0m \u001b[38;5;28mprint\u001b[39m(\u001b[38;5;28mlen\u001b[39m(a))\n\u001b[0;32m      3\u001b[0m \u001b[38;5;28mprint\u001b[39m(\u001b[38;5;28mmin\u001b[39m(a))\n\u001b[1;32m----> 4\u001b[0m \u001b[38;5;28mprint\u001b[39m(\u001b[43mmix\u001b[49m(a))\n",
      "\u001b[1;31mNameError\u001b[0m: name 'mix' is not defined"
     ]
    }
   ],
   "source": [
    "a=[10,20,30,40,50,60]\n",
    "print(len(a))\n",
    "print(min(a))\n",
    "print(mix(a))"
   ]
  },
  {
   "cell_type": "code",
   "execution_count": 37,
   "id": "25b19bb5-f9c3-424b-812a-179fafa260ba",
   "metadata": {},
   "outputs": [
    {
     "name": "stdout",
     "output_type": "stream",
     "text": [
      "6\n",
      "10\n",
      "60\n"
     ]
    }
   ],
   "source": [
    "a=[10,20,30,40,50,60]\n",
    "print(len(a))\n",
    "print(min(a))\n",
    "print(max(a))"
   ]
  },
  {
   "cell_type": "code",
   "execution_count": 38,
   "id": "0eeb18f0-cb4d-4924-b3df-a7e198b6013e",
   "metadata": {},
   "outputs": [
    {
     "name": "stdout",
     "output_type": "stream",
     "text": [
      "hello\n",
      "wellcome\n",
      "creative\n"
     ]
    }
   ],
   "source": [
    "print(\"hello\")\n",
    "print(\"wellcome\")\n",
    "print(\"creative\")"
   ]
  },
  {
   "cell_type": "code",
   "execution_count": 39,
   "id": "1ce5d3e4-aa06-4c3e-ae0d-0cf470d10094",
   "metadata": {},
   "outputs": [
    {
     "ename": "SyntaxError",
     "evalue": "invalid syntax (4087122596.py, line 3)",
     "output_type": "error",
     "traceback": [
      "\u001b[1;36m  Input \u001b[1;32mIn [39]\u001b[1;36m\u001b[0m\n\u001b[1;33m    print(1.3151.565423)\u001b[0m\n\u001b[1;37m                ^\u001b[0m\n\u001b[1;31mSyntaxError\u001b[0m\u001b[1;31m:\u001b[0m invalid syntax\n"
     ]
    }
   ],
   "source": [
    "print(100000000)\n",
    "print(132654565)\n",
    "print(1.3151.565423)"
   ]
  },
  {
   "cell_type": "code",
   "execution_count": 40,
   "id": "bfdd32e1-57d6-4c9f-9f15-d4aee61d1660",
   "metadata": {},
   "outputs": [
    {
     "name": "stdout",
     "output_type": "stream",
     "text": [
      "5\n",
      "10\n",
      "70\n"
     ]
    }
   ],
   "source": [
    "a=[10,20,30,60,70]\n",
    "print(len(a))\n",
    "print(min(a))\n",
    "print(max(a))"
   ]
  },
  {
   "cell_type": "code",
   "execution_count": 41,
   "id": "d26a271e-2d3c-494f-b8fa-c78ebc8a0302",
   "metadata": {},
   "outputs": [
    {
     "name": "stdout",
     "output_type": "stream",
     "text": [
      "20\n"
     ]
    }
   ],
   "source": [
    "print(10+10)"
   ]
  },
  {
   "cell_type": "code",
   "execution_count": 42,
   "id": "636daa0c-e6e7-4e30-ab8c-b8176dbf58d9",
   "metadata": {},
   "outputs": [
    {
     "name": "stdout",
     "output_type": "stream",
     "text": [
      "4630119\n",
      "-45374292\n",
      "0.0017649974530321848\n",
      "341829794646\n"
     ]
    }
   ],
   "source": [
    "num=80254\n",
    "print(num+4549865)\n",
    "print(num-45454546)\n",
    "print(num/45469754)\n",
    "print(num*4259349)"
   ]
  },
  {
   "cell_type": "code",
   "execution_count": 44,
   "id": "178b76aa-3ec3-4ba5-ae82-154578eeef15",
   "metadata": {},
   "outputs": [
    {
     "name": "stdout",
     "output_type": "stream",
     "text": [
      "20\n"
     ]
    }
   ],
   "source": [
    "type= 10+10 \n",
    "print(10+10)"
   ]
  },
  {
   "cell_type": "code",
   "execution_count": null,
   "id": "d5eaa0a8-b179-4b65-8dd6-c99c680b72f3",
   "metadata": {},
   "outputs": [],
   "source": [
    "print(\"yello\")\n",
    "print(0205040)\n",
    "print(1.59482)"
   ]
  },
  {
   "cell_type": "markdown",
   "id": "1a6fd3a8-47da-4137-9557-27a4b54e82bc",
   "metadata": {},
   "source": [
    "num=500\n",
    "print(num+456)\n",
    "print(num-1237)\n",
    "print(num/75987)\n",
    "print(num*74569)"
   ]
  },
  {
   "cell_type": "code",
   "execution_count": null,
   "id": "6b116aaa-93b8-490e-8833-d4b8eae2abfa",
   "metadata": {},
   "outputs": [],
   "source": [
    "name='ths\n",
    "code=9\n",
    "code-name=name=str+(code)\n",
    "print(code-name)\n",
    "print(type(code))"
   ]
  },
  {
   "cell_type": "code",
   "execution_count": 45,
   "id": "cfb207ab-a328-40d6-a5d5-f8defa56ce1c",
   "metadata": {},
   "outputs": [
    {
     "ename": "SyntaxError",
     "evalue": "EOL while scanning string literal (1723012964.py, line 1)",
     "output_type": "error",
     "traceback": [
      "\u001b[1;36m  Input \u001b[1;32mIn [45]\u001b[1;36m\u001b[0m\n\u001b[1;33m    name='ths\u001b[0m\n\u001b[1;37m             ^\u001b[0m\n\u001b[1;31mSyntaxError\u001b[0m\u001b[1;31m:\u001b[0m EOL while scanning string literal\n"
     ]
    }
   ],
   "source": [
    "name='ths"
   ]
  },
  {
   "cell_type": "code",
   "execution_count": 46,
   "id": "da05b4e1-4a2d-4eb5-973c-5b849c7bbbc4",
   "metadata": {},
   "outputs": [
    {
     "ename": "SyntaxError",
     "evalue": "cannot assign to operator (4240249610.py, line 3)",
     "output_type": "error",
     "traceback": [
      "\u001b[1;36m  Input \u001b[1;32mIn [46]\u001b[1;36m\u001b[0m\n\u001b[1;33m    code-name=name_str+(code)\u001b[0m\n\u001b[1;37m    ^\u001b[0m\n\u001b[1;31mSyntaxError\u001b[0m\u001b[1;31m:\u001b[0m cannot assign to operator\n"
     ]
    }
   ],
   "source": [
    "name='ths'\n",
    "code=9\n",
    "code-name=name_str+(code)\n",
    "print(code_name)\n",
    "print(type(code))\n"
   ]
  },
  {
   "cell_type": "code",
   "execution_count": 6,
   "id": "b30003d5-582e-469f-9bd2-7d3933833215",
   "metadata": {},
   "outputs": [
    {
     "ename": "NameError",
     "evalue": "name 'name_str' is not defined",
     "output_type": "error",
     "traceback": [
      "\u001b[1;31m---------------------------------------------------------------------------\u001b[0m",
      "\u001b[1;31mNameError\u001b[0m                                 Traceback (most recent call last)",
      "Input \u001b[1;32mIn [6]\u001b[0m, in \u001b[0;36m<cell line: 3>\u001b[1;34m()\u001b[0m\n\u001b[0;32m      1\u001b[0m name\u001b[38;5;241m=\u001b[39m\u001b[38;5;124m'\u001b[39m\u001b[38;5;124mths\u001b[39m\u001b[38;5;124m'\u001b[39m\n\u001b[0;32m      2\u001b[0m code\u001b[38;5;241m=\u001b[39m\u001b[38;5;241m9\u001b[39m\n\u001b[1;32m----> 3\u001b[0m code_name\u001b[38;5;241m=\u001b[39m\u001b[43mname_str\u001b[49m\u001b[38;5;241m+\u001b[39m(code)\n\u001b[0;32m      4\u001b[0m \u001b[38;5;28mprint\u001b[39m(code_name)\n\u001b[0;32m      5\u001b[0m \u001b[38;5;28mprint\u001b[39m(\u001b[38;5;28mtype\u001b[39m(code))\n",
      "\u001b[1;31mNameError\u001b[0m: name 'name_str' is not defined"
     ]
    }
   ],
   "source": [
    "name='ths'\n",
    "code=9\n",
    "code_name=name_str+(code)\n",
    "print(code_name)\n",
    "print(type(code))"
   ]
  },
  {
   "cell_type": "code",
   "execution_count": 2,
   "id": "5659c5f2-5edf-45d7-ac9f-77fc02f49cce",
   "metadata": {},
   "outputs": [
    {
     "name": "stdout",
     "output_type": "stream",
     "text": [
      "hello\n",
      "wellocome\n",
      "creative\n"
     ]
    }
   ],
   "source": [
    "print(\"hello\")\n",
    "print(\"wellocome\")\n",
    "print(\"creative\")"
   ]
  },
  {
   "cell_type": "code",
   "execution_count": null,
   "id": "c9dfa215-6feb-48f9-8c93-2f811d13eed5",
   "metadata": {},
   "outputs": [],
   "source": [
    "# integer\n",
    "#float\n",
    "#sring"
   ]
  },
  {
   "cell_type": "markdown",
   "id": "ae9056ec-897c-49cf-bf9c-f9ddc5f623a3",
   "metadata": {},
   "source": [
    "num=50\n",
    "print(num+569556)\n",
    "print(num/1.26476548)\n",
    "print(num*51235752)\n",
    "\n",
    "\n"
   ]
  },
  {
   "cell_type": "code",
   "execution_count": 4,
   "id": "dc562a63-72b0-4d76-ac22-f5cc3d7a8ff6",
   "metadata": {},
   "outputs": [
    {
     "name": "stdout",
     "output_type": "stream",
     "text": [
      "20\n"
     ]
    }
   ],
   "source": [
    "print(10+10)"
   ]
  },
  {
   "cell_type": "code",
   "execution_count": null,
   "id": "05b66404-ba74-4781-9474-fadc3920f6e5",
   "metadata": {},
   "outputs": [],
   "source": [
    "#(\"hello\") srting\n",
    "#(123456)  integer\n",
    "#(1.23648) float\n",
    "#(True;False) bollern"
   ]
  },
  {
   "cell_type": "code",
   "execution_count": null,
   "id": "681857d0-b06f-4265-84b3-51ad2d935214",
   "metadata": {},
   "outputs": [],
   "source": [
    "print(\"Hello\")\n",
    "print(126497)\n",
    "print(1.346)\n",
    "print(True;False) "
   ]
  },
  {
   "cell_type": "code",
   "execution_count": null,
   "id": "0516b862-5e87-4009-8bb4-2680bcd266e7",
   "metadata": {},
   "outputs": [],
   "source": [
    "#print(\"hello\") string\n",
    "#print(12365466)  integer\n",
    "#print(1.36954244)  float\n",
    "#print(True; False)  bollern"
   ]
  },
  {
   "cell_type": "code",
   "execution_count": 2,
   "id": "7f08e67f-fbde-40d3-ad06-8bf16b3f4663",
   "metadata": {},
   "outputs": [
    {
     "name": "stdout",
     "output_type": "stream",
     "text": [
      "75\n",
      "-216800\n",
      "118.39249999999998\n",
      "0.00021215387095952954\n"
     ]
    }
   ],
   "source": [
    "num=50\n",
    "print(num+25)\n",
    "print(num-216850)\n",
    "print(num*2.36785)\n",
    "print(num/235678)"
   ]
  },
  {
   "cell_type": "code",
   "execution_count": null,
   "id": "74bfa829-4201-48bb-840d-52bb30f29e32",
   "metadata": {},
   "outputs": [],
   "source": [
    "print(\"Hello\")\n",
    "print(\"creative)\n",
    "      print(wellcome)\n",
    "      "
   ]
  },
  {
   "cell_type": "code",
   "execution_count": 3,
   "id": "a955ff12-c56a-44bf-84ff-18eb32f3c90c",
   "metadata": {},
   "outputs": [
    {
     "name": "stdout",
     "output_type": "stream",
     "text": [
      "20\n"
     ]
    }
   ],
   "source": [
    "print (10+10)"
   ]
  },
  {
   "cell_type": "code",
   "execution_count": 4,
   "id": "c084a241-37c9-49a1-ba8a-d4f048e2c252",
   "metadata": {},
   "outputs": [
    {
     "name": "stdout",
     "output_type": "stream",
     "text": [
      "Hello\n"
     ]
    }
   ],
   "source": [
    "print(\"Hello\")"
   ]
  },
  {
   "cell_type": "code",
   "execution_count": null,
   "id": "f631ad72-d13d-4b31-8c42-96bec8d2d6be",
   "metadata": {},
   "outputs": [],
   "source": [
    "print(type(num))"
   ]
  },
  {
   "cell_type": "code",
   "execution_count": 5,
   "id": "429f20f0-d439-4b6f-8a0d-2668cb5dd84d",
   "metadata": {},
   "outputs": [
    {
     "name": "stdout",
     "output_type": "stream",
     "text": [
      "126597\n",
      "48.630148\n",
      "632976700\n",
      "1.932780372599854e-06\n"
     ]
    }
   ],
   "source": [
    "num=50\n",
    "print(num+126547)\n",
    "print(num-1.369852)\n",
    "print(num*12659534)\n",
    "print(num/25869468)"
   ]
  },
  {
   "cell_type": "code",
   "execution_count": null,
   "id": "d2b0bd4c-52cc-48d5-a64d-cae1c8270d68",
   "metadata": {},
   "outputs": [],
   "source": [
    "if>40\n",
    "  print>50\n",
    "    if>60\n",
    "       print>20\n",
    "       "
   ]
  },
  {
   "cell_type": "code",
   "execution_count": 1,
   "id": "671f1fb4-ce11-45d0-8d31-c4aeba7a6fb5",
   "metadata": {},
   "outputs": [
    {
     "name": "stdout",
     "output_type": "stream",
     "text": [
      "125456616\n",
      "-5656944516\n",
      "68.49256\n",
      "2.1145613316125137e-11\n"
     ]
    }
   ],
   "source": [
    "num=50\n",
    "print(num+125456566)\n",
    "print(num-5656944566)\n",
    "print(num*1.3698512)\n",
    "print(num/2364556622336)\n"
   ]
  },
  {
   "cell_type": "code",
   "execution_count": 2,
   "id": "630f7af6-6d73-4af9-b6b7-fb9b41a1c3ae",
   "metadata": {},
   "outputs": [
    {
     "name": "stdout",
     "output_type": "stream",
     "text": [
      "100\n"
     ]
    }
   ],
   "source": [
    "x=50\n",
    "y=50\n",
    "print(x+y)\n"
   ]
  },
  {
   "cell_type": "code",
   "execution_count": null,
   "id": "ef1202dd-f005-4fa7-a04e-54e691a78043",
   "metadata": {},
   "outputs": [],
   "source": [
    "a={10;20;30;40;50}\n",
    "print(type)"
   ]
  },
  {
   "cell_type": "code",
   "execution_count": 1,
   "id": "603ab304-546a-4dd5-9030-11c0db2f831d",
   "metadata": {},
   "outputs": [
    {
     "name": "stdout",
     "output_type": "stream",
     "text": [
      "20\n"
     ]
    }
   ],
   "source": [
    "print(10+10)"
   ]
  },
  {
   "cell_type": "code",
   "execution_count": 2,
   "id": "d13c6795-5f55-4896-ab1f-ab0c08e1548a",
   "metadata": {},
   "outputs": [
    {
     "name": "stdout",
     "output_type": "stream",
     "text": [
      "11256255616\n",
      "618494100\n",
      "0.004045515316082301\n",
      "68.24992\n"
     ]
    }
   ],
   "source": [
    "num=50\n",
    "print(num+11256255566)\n",
    "print(num*12369882)\n",
    "print(num/12359.3649)\n",
    "print(num*1.3649984)"
   ]
  },
  {
   "cell_type": "code",
   "execution_count": null,
   "id": "3831554f-add1-46ab-b1ed-9df1fe2d12b5",
   "metadata": {},
   "outputs": [],
   "source": [
    "#print(\"Hello\")     string\n",
    "#print(123654)      integer\n",
    "#print(1.3619249)   float\n",
    "#print(True; False) boolent"
   ]
  },
  {
   "cell_type": "code",
   "execution_count": null,
   "id": "f9b035fe-06ad-4131-8b9a-dd3c2b4b16b0",
   "metadata": {},
   "outputs": [],
   "source": [
    "#print(\"Hello\")       string\n",
    "#print(\"123456)       integer \n",
    "#print(1.0235542)      float\n",
    "#print(True: False)    bollent"
   ]
  },
  {
   "cell_type": "code",
   "execution_count": 10,
   "id": "e0bd103c-07ef-498d-bff4-ddd2689e90cc",
   "metadata": {},
   "outputs": [],
   "source": [
    "name=\"kaung kaung\"\n",
    "print=(type(name))\n",
    "yourname=10\n",
    "print=(type(yourname))"
   ]
  },
  {
   "cell_type": "code",
   "execution_count": 12,
   "id": "bbf938fa-2fe1-4316-ad95-fb3d9809476b",
   "metadata": {},
   "outputs": [],
   "source": [
    "name=\"creative\"\n",
    "print=(type(name))\n",
    "yourname=10\n",
    "print=(type(yourname))"
   ]
  },
  {
   "cell_type": "code",
   "execution_count": null,
   "id": "585700ea-f89a-4ed9-b502-f7e7a985eaa0",
   "metadata": {},
   "outputs": [],
   "source": [
    "#print(\"Hello\")      string\n",
    "#print(1.2649654)    float\n",
    "#print(1265945)      integer\n",
    "#print(True;False)   bollent"
   ]
  },
  {
   "cell_type": "code",
   "execution_count": null,
   "id": "67c73c66-6d0c-48d2-9373-ea7321863215",
   "metadata": {},
   "outputs": [],
   "source": [
    "#name= (\"string\")  \n",
    "#age=22 25 (integer)\n",
    "#heigh= 1.2 5.6 (float)\n",
    "#status= True;False (bollent)"
   ]
  },
  {
   "cell_type": "code",
   "execution_count": null,
   "id": "c30fb55d-5d0d-4fed-8e3a-01a5a8cd513a",
   "metadata": {},
   "outputs": [],
   "source": [
    "a=12\n",
    "b=5.2\n",
    "name=(\"kaung kaung\")\n",
    "single=True\n"
   ]
  },
  {
   "cell_type": "code",
   "execution_count": 2,
   "id": "d37e46de-e695-4529-b2f9-94486227d97b",
   "metadata": {},
   "outputs": [
    {
     "name": "stdout",
     "output_type": "stream",
     "text": [
      "<class 'str'>\n"
     ]
    }
   ],
   "source": [
    "print(type(\"a\"))"
   ]
  },
  {
   "cell_type": "code",
   "execution_count": 3,
   "id": "9c6b2128-177c-4fff-be83-55b180ee5fd8",
   "metadata": {},
   "outputs": [
    {
     "name": "stdout",
     "output_type": "stream",
     "text": [
      "<class 'str'>\n"
     ]
    }
   ],
   "source": [
    "print(type(\"name\"))"
   ]
  },
  {
   "cell_type": "code",
   "execution_count": null,
   "id": "fee3d299-49f7-4457-a817-95835c653571",
   "metadata": {},
   "outputs": [],
   "source": [
    "num1=(\"enter your name\")\n",
    "num2=(\"enter your name\")\n",
    "result=num1+num2"
   ]
  },
  {
   "cell_type": "code",
   "execution_count": 2,
   "id": "e0e67ec3-7995-4504-8ccb-930ff473885a",
   "metadata": {},
   "outputs": [
    {
     "name": "stdout",
     "output_type": "stream",
     "text": [
      "eng 68\n",
      "math 70\n",
      "bio 80\n"
     ]
    }
   ],
   "source": [
    "myMark = {'eng' : 68, 'math':70,'bio':80}\n",
    "for key in myMark:\n",
    "    print(key,myMark[key])     mymark=(key,math 40"
   ]
  },
  {
   "cell_type": "code",
   "execution_count": 3,
   "id": "5f311675-2cec-4acc-a9cf-bd7176642ad5",
   "metadata": {},
   "outputs": [
    {
     "name": "stdout",
     "output_type": "stream",
     "text": [
      "eng 68\n",
      "math 70\n",
      "bio 80\n"
     ]
    }
   ],
   "source": [
    "for key,value in myMark.items():\n",
    "    print(key,value)"
   ]
  },
  {
   "cell_type": "code",
   "execution_count": 4,
   "id": "6637c077-072b-43f6-907b-81bacca232f0",
   "metadata": {},
   "outputs": [
    {
     "ename": "NameError",
     "evalue": "name 'mark' is not defined",
     "output_type": "error",
     "traceback": [
      "\u001b[1;31m---------------------------------------------------------------------------\u001b[0m",
      "\u001b[1;31mNameError\u001b[0m                                 Traceback (most recent call last)",
      "Input \u001b[1;32mIn [4]\u001b[0m, in \u001b[0;36m<cell line: 1>\u001b[1;34m()\u001b[0m\n\u001b[1;32m----> 1\u001b[0m \u001b[38;5;28;01mif\u001b[39;00m \u001b[43mmark\u001b[49m \u001b[38;5;241m>\u001b[39m \u001b[38;5;241m80\u001b[39m:\n\u001b[0;32m      2\u001b[0m     \u001b[38;5;28mprint\u001b[39m(\u001b[38;5;124m\"\u001b[39m\u001b[38;5;124mA\u001b[39m\u001b[38;5;124m\"\u001b[39m)\n\u001b[0;32m      3\u001b[0m \u001b[38;5;28;01melse\u001b[39;00m :\n",
      "\u001b[1;31mNameError\u001b[0m: name 'mark' is not defined"
     ]
    }
   ],
   "source": [
    "if mark > 80:\n",
    "    print(\"A\")\n",
    "else :\n",
    "    if mark > 60:\n",
    "        print(\"B\")\n",
    "    else:\n",
    "        if mark >40:\n",
    "            print(\"C\")\n",
    "        else:\n",
    "            if mark < 40:\n",
    "                print(\"D\")"
   ]
  },
  {
   "cell_type": "code",
   "execution_count": 5,
   "id": "7866e319-735c-49ee-afb7-50350614b7eb",
   "metadata": {},
   "outputs": [
    {
     "ename": "NameError",
     "evalue": "name 'mark' is not defined",
     "output_type": "error",
     "traceback": [
      "\u001b[1;31m---------------------------------------------------------------------------\u001b[0m",
      "\u001b[1;31mNameError\u001b[0m                                 Traceback (most recent call last)",
      "Input \u001b[1;32mIn [5]\u001b[0m, in \u001b[0;36m<cell line: 1>\u001b[1;34m()\u001b[0m\n\u001b[1;32m----> 1\u001b[0m \u001b[38;5;28;01mif\u001b[39;00m \u001b[43mmark\u001b[49m \u001b[38;5;241m>\u001b[39m \u001b[38;5;241m80\u001b[39m:\n\u001b[0;32m      2\u001b[0m     \u001b[38;5;28mprint\u001b[39m(\u001b[38;5;124m\"\u001b[39m\u001b[38;5;124mA\u001b[39m\u001b[38;5;124m\"\u001b[39m)\n\u001b[0;32m      3\u001b[0m \u001b[38;5;28;01melif\u001b[39;00m mark \u001b[38;5;241m>\u001b[39m\u001b[38;5;241m60\u001b[39m:\n",
      "\u001b[1;31mNameError\u001b[0m: name 'mark' is not defined"
     ]
    }
   ],
   "source": [
    "if mark > 80:\n",
    "    print(\"A\")\n",
    "elif mark >60:\n",
    "    print(\"B\")\n",
    "elif mark > 40:\n",
    "    print(\"C\")\n",
    "elif mark <40:\n",
    "    print(\"D\")"
   ]
  },
  {
   "cell_type": "code",
   "execution_count": null,
   "id": "56283c19-3dec-4e1f-bbf0-cbe061546ee2",
   "metadata": {},
   "outputs": [],
   "source": [
    "if mark > 80:\n",
    "    print(\"A\")\n",
    "elif mark >60:\n",
    "    print(\"B\")\n",
    "elif mark > 40:\n",
    "    print(\"C\")\n",
    "elif mark <40:\n",
    "    print(\"D\")"
   ]
  },
  {
   "cell_type": "code",
   "execution_count": null,
   "id": "716c3b11-d969-4bbc-b330-e97027321ab5",
   "metadata": {},
   "outputs": [],
   "source": [
    "index  = 1\n",
    "while index < 100:\n",
    "    #print(index)\n",
    "    index = index +1"
   ]
  },
  {
   "cell_type": "code",
   "execution_count": null,
   "id": "f5d375ca-f143-42be-88ac-de3731e0d07e",
   "metadata": {},
   "outputs": [],
   "source": [
    "index=2\n",
    "while index < 500\n",
    "     #print(index)\n",
    "      index = index+1"
   ]
  },
  {
   "cell_type": "code",
   "execution_count": 6,
   "id": "3ed40f18-cb0c-4fa1-af93-88c465d09dba",
   "metadata": {},
   "outputs": [
    {
     "name": "stdout",
     "output_type": "stream",
     "text": [
      "80\n",
      "90\n",
      "ths\n"
     ]
    }
   ],
   "source": [
    "mydata = set()\n",
    "mydata.add(80)\n",
    "mydata.add(90)\n",
    "mydata.add(80)\n",
    "mydata.add(\"ths\")\n",
    "for cur_mark in mydata:\n",
    "    print(cur_mark)"
   ]
  },
  {
   "cell_type": "code",
   "execution_count": null,
   "id": "2682c5eb-24fe-4bc1-9936-40334867427b",
   "metadata": {},
   "outputs": [],
   "source": [
    "mydata=ankik[\n",
    "    \n",
    "mydata =add("
   ]
  },
  {
   "cell_type": "code",
   "execution_count": null,
   "id": "a18d1926-01f8-4a61-b117-222af363379e",
   "metadata": {},
   "outputs": [],
   "source": [
    "print(\"Hello\")      string\n",
    "print(123456789)    integer\n",
    "print(1.2364597)    float\n",
    "print(True False)   boolern"
   ]
  },
  {
   "cell_type": "code",
   "execution_count": 1,
   "id": "75d5ad1a-6e3e-4109-b05b-8cc454d9da66",
   "metadata": {},
   "outputs": [
    {
     "name": "stdout",
     "output_type": "stream",
     "text": [
      "20\n"
     ]
    }
   ],
   "source": [
    "print(10+10)"
   ]
  },
  {
   "cell_type": "code",
   "execution_count": 2,
   "id": "2829b1a3-9104-41a1-bb42-7bec03bf719c",
   "metadata": {},
   "outputs": [
    {
     "name": "stdout",
     "output_type": "stream",
     "text": [
      "40\n"
     ]
    }
   ],
   "source": [
    "num  =20\n",
    "print(num+20)"
   ]
  },
  {
   "cell_type": "code",
   "execution_count": 3,
   "id": "b41071fc-b311-4102-aaef-21d5af98eabe",
   "metadata": {},
   "outputs": [
    {
     "name": "stdout",
     "output_type": "stream",
     "text": [
      "70\n",
      "-20248604\n",
      "618274900\n"
     ]
    }
   ],
   "source": [
    "num  =50\n",
    "print(num+20)\n",
    "print(num-20248654)\n",
    "print(num*12365498)"
   ]
  },
  {
   "cell_type": "code",
   "execution_count": 5,
   "id": "296c1dee-a3c8-4785-a1fe-5b510d156076",
   "metadata": {},
   "outputs": [
    {
     "data": {
      "text/plain": [
       "\"<class 'int'>\""
      ]
     },
     "execution_count": 5,
     "metadata": {},
     "output_type": "execute_result"
    }
   ],
   "source": [
    "name  =(\"kaung kaung\")\n",
    "print=(type(name))\n",
    "yourname=10\n",
    "print(type(yourname))"
   ]
  },
  {
   "cell_type": "code",
   "execution_count": 6,
   "id": "37d57ce3-0607-4582-a125-073e89f0c5d1",
   "metadata": {},
   "outputs": [
    {
     "data": {
      "text/plain": [
       "\"<class 'int'>\""
      ]
     },
     "execution_count": 6,
     "metadata": {},
     "output_type": "execute_result"
    }
   ],
   "source": [
    "name=(\"kaung kaung\")\n",
    "print=(type(name))\n",
    "yournme=10\n",
    "print(type(yourname))"
   ]
  },
  {
   "cell_type": "code",
   "execution_count": null,
   "id": "c690608c-5353-41c2-94d4-eafb2f14aaf8",
   "metadata": {},
   "outputs": [],
   "source": [
    "code=20\n",
    "name=(\"kaung\")\n",
    "code_name=name+str(code)\n",
    "print(code_name)"
   ]
  },
  {
   "cell_type": "code",
   "execution_count": null,
   "id": "75296638-742f-4842-baff-22f4cfae90d0",
   "metadata": {},
   "outputs": [],
   "source": [
    "code=10\n",
    "name=(\"kaung\")\n",
    "code_name=name+str(code)\n",
    "print(code_name)"
   ]
  },
  {
   "cell_type": "code",
   "execution_count": null,
   "id": "ef729b8c-a7b5-4c1d-9fef-c0d38532f70a",
   "metadata": {},
   "outputs": [],
   "source": [
    "codename(\"9\")\n"
   ]
  },
  {
   "cell_type": "code",
   "execution_count": 1,
   "id": "8df2bc0a-092c-477b-b820-e147041a4139",
   "metadata": {},
   "outputs": [
    {
     "name": "stdout",
     "output_type": "stream",
     "text": [
      "123654839\n"
     ]
    }
   ],
   "source": [
    "num=50\n",
    "print(num+123654789)"
   ]
  },
  {
   "cell_type": "code",
   "execution_count": null,
   "id": "a4533700-9b8a-49d9-95dd-1d73304a88aa",
   "metadata": {},
   "outputs": [],
   "source": [
    "num1= int(input(\"enter a number\")\n",
    "num2=int(input(\"enter a number\")\n",
    "result=num1+num2        "
   ]
  },
  {
   "cell_type": "code",
   "execution_count": null,
   "id": "4136bfb8-3d03-4d02-8589-75cca7aebe9f",
   "metadata": {},
   "outputs": [],
   "source": [
    "print(\"the result is\") "
   ]
  },
  {
   "cell_type": "code",
   "execution_count": 1,
   "id": "4e8cffba-64f0-4f9d-a4ff-5800638766ad",
   "metadata": {},
   "outputs": [
    {
     "name": "stdout",
     "output_type": "stream",
     "text": [
      "7500\n"
     ]
    }
   ],
   "source": [
    "print(eval(\"100*75\"))"
   ]
  },
  {
   "cell_type": "code",
   "execution_count": null,
   "id": "2119e36f-fbd2-4cf8-a05d-5b9776491e7d",
   "metadata": {},
   "outputs": [],
   "source": [
    "print(eval(\"200+4563210))"
   ]
  },
  {
   "cell_type": "code",
   "execution_count": null,
   "id": "99e6e804-77be-4dc1-bb01-950af8beed57",
   "metadata": {},
   "outputs": [],
   "source": [
    "money=10000\n",
    "if \n",
    "  money>1000\n",
    "    print(\"Ps5\")\n",
    "else\n",
    "    money<1000\n",
    "      print(\"Ps4\")\n",
    "        "
   ]
  },
  {
   "cell_type": "code",
   "execution_count": null,
   "id": "925dc6be-b2cb-40a3-99b6-09781bdefa9b",
   "metadata": {},
   "outputs": [],
   "source": [
    "from car import Car\n",
    "\n",
    "class BMW(Car):\n",
    "    def __init__(self,license):\n",
    "        self.license = license\n",
    "        super().__init__(self.license, \"v90\",3000)\n",
    "\n",
    "    def tax(self):\n",
    "        tax = 8\n",
    "        licenseCost = 2\n",
    "\n",
    "        totalCost = (tax/100)*self.price + self.price\n",
    "        totalCost = (licenseCost/100)*self.price +  totalCost\n",
    "        return totalCost"
   ]
  },
  {
   "cell_type": "code",
   "execution_count": null,
   "id": "26fe2f97-365b-4b82-8980-fc7e4f169ba5",
   "metadata": {},
   "outputs": [],
   "source": [
    "class LightTruck(Car):\n",
    "    def __init__(self,license):\n",
    "        self.license = license\n",
    "        super().__init__(self.license,\"v50\",1500)\n",
    "\n",
    "    def tax(self):\n",
    "        tax = 5\n",
    "\n",
    "        totalCost = (tax/100)*self.price + self.price\n",
    "        return totalCost "
   ]
  },
  {
   "cell_type": "code",
   "execution_count": null,
   "id": "e69c7acf-11d3-4c68-9e92-a6b7e95ca237",
   "metadata": {},
   "outputs": [],
   "source": [
    "class lightTruck(Car):\n",
    "    def_intit_(self;License):\n",
    "        seif.liense= license\n",
    "        super()._init_(self.liece):\n",
    "            super(Tax"
   ]
  },
  {
   "cell_type": "code",
   "execution_count": null,
   "id": "8bbfeb8f-e7b2-4a85-a62f-04645032d5eb",
   "metadata": {},
   "outputs": [],
   "source": [
    "def_init_(self;license);\n",
    "    self.license=license\n",
    "    supera()._int_(self;license)\n",
    "    \n",
    "def tax    "
   ]
  },
  {
   "cell_type": "code",
   "execution_count": null,
   "id": "46b312ef-adac-48f3-b74a-3c5c9ff44a23",
   "metadata": {},
   "outputs": [],
   "source": [
    "class lightTruck(car):\n",
    "    def_intit_(self;License):\n",
    "        self.liense=license):\n",
    "            super().init_(self.liece):\n",
    "                super(Tax\n",
    "                "
   ]
  },
  {
   "cell_type": "code",
   "execution_count": 1,
   "id": "8dc36638-9ef9-4709-b88a-3277daeea1fd",
   "metadata": {},
   "outputs": [
    {
     "name": "stdout",
     "output_type": "stream",
     "text": [
      "Hello world\n",
      "<class 'str'>\n"
     ]
    }
   ],
   "source": [
    "a=\"Hello world\"\n",
    "print(a)\n",
    "print(type(a))"
   ]
  },
  {
   "cell_type": "code",
   "execution_count": 2,
   "id": "1cfe9edd-33be-4cd1-a12b-e3c3226cd52c",
   "metadata": {},
   "outputs": [
    {
     "name": "stdout",
     "output_type": "stream",
     "text": [
      "kaung kaung\n",
      "<class 'str'>\n"
     ]
    }
   ],
   "source": [
    "a=\"kaung kaung\"\n",
    "b=12\n",
    "c=1.236\n",
    "print(a)\n",
    "print(type(a))"
   ]
  },
  {
   "cell_type": "code",
   "execution_count": 3,
   "id": "8a645bb8-4505-4a0f-b723-f9867eec40be",
   "metadata": {},
   "outputs": [
    {
     "name": "stdout",
     "output_type": "stream",
     "text": [
      "<class 'float'>\n"
     ]
    }
   ],
   "source": [
    "print(type(c))\n"
   ]
  },
  {
   "cell_type": "code",
   "execution_count": 5,
   "id": "4d396964-9c26-4c28-ba42-fa38abfe9610",
   "metadata": {},
   "outputs": [
    {
     "name": "stdout",
     "output_type": "stream",
     "text": [
      "hello from 2021\n"
     ]
    }
   ],
   "source": [
    "print(\"hello\",\"from\",2021)\n"
   ]
  },
  {
   "cell_type": "code",
   "execution_count": 6,
   "id": "cee48bf6-6d8a-4b1e-bccd-aaf50ee5aeca",
   "metadata": {},
   "outputs": [
    {
     "name": "stdout",
     "output_type": "stream",
     "text": [
      "kaung kaung 1.12 enter your name\n"
     ]
    }
   ],
   "source": [
    "print(\"kaung kaung\",1.12,\"enter your name\")"
   ]
  },
  {
   "cell_type": "code",
   "execution_count": 9,
   "id": "51e4158b-5423-448b-a359-454eabc9c4f9",
   "metadata": {},
   "outputs": [
    {
     "ename": "TypeError",
     "evalue": "'int' object is not callable",
     "output_type": "error",
     "traceback": [
      "\u001b[1;31m---------------------------------------------------------------------------\u001b[0m",
      "\u001b[1;31mTypeError\u001b[0m                                 Traceback (most recent call last)",
      "Input \u001b[1;32mIn [9]\u001b[0m, in \u001b[0;36m<cell line: 1>\u001b[1;34m()\u001b[0m\n\u001b[1;32m----> 1\u001b[0m \u001b[38;5;28;43mprint\u001b[39;49m\u001b[43m(\u001b[49m\u001b[38;5;28;43mint\u001b[39;49m\u001b[43m(\u001b[49m\u001b[38;5;241;43m21.00\u001b[39;49m\u001b[43m)\u001b[49m\u001b[43m)\u001b[49m\n",
      "\u001b[1;31mTypeError\u001b[0m: 'int' object is not callable"
     ]
    }
   ],
   "source": [
    "print(int(21.00))"
   ]
  },
  {
   "cell_type": "markdown",
   "id": "6d3ce61b-a428-4a9d-a58e-468230f8f372",
   "metadata": {},
   "source": [
    ">>int(21.2)"
   ]
  },
  {
   "cell_type": "code",
   "execution_count": 14,
   "id": "1107dd9e-e816-46d3-8485-0f2e162476d3",
   "metadata": {},
   "outputs": [
    {
     "ename": "TypeError",
     "evalue": "'int' object is not callable",
     "output_type": "error",
     "traceback": [
      "\u001b[1;31m---------------------------------------------------------------------------\u001b[0m",
      "\u001b[1;31mTypeError\u001b[0m                                 Traceback (most recent call last)",
      "Input \u001b[1;32mIn [14]\u001b[0m, in \u001b[0;36m<cell line: 2>\u001b[1;34m()\u001b[0m\n\u001b[0;32m      1\u001b[0m a\u001b[38;5;241m=\u001b[39m\u001b[38;5;124m\"\u001b[39m\u001b[38;5;124mkaung kaung\u001b[39m\u001b[38;5;124m\"\u001b[39m\n\u001b[1;32m----> 2\u001b[0m \u001b[38;5;28;43mprint\u001b[39;49m\u001b[43m(\u001b[49m\u001b[43ma\u001b[49m\u001b[43m)\u001b[49m\n\u001b[0;32m      3\u001b[0m \u001b[38;5;28mprint\u001b[39m(\u001b[38;5;28mtype\u001b[39m(a))\n",
      "\u001b[1;31mTypeError\u001b[0m: 'int' object is not callable"
     ]
    }
   ],
   "source": [
    "a=(\"kaung kaung\")\n",
    "print(a)\n",
    "print(type(a))"
   ]
  },
  {
   "cell_type": "code",
   "execution_count": 1,
   "id": "97c9e225-2a12-4a20-b73d-33a7ef398d92",
   "metadata": {},
   "outputs": [
    {
     "name": "stdout",
     "output_type": "stream",
     "text": [
      "Enter your name\n",
      "<class 'str'>\n"
     ]
    }
   ],
   "source": [
    "a=(\"Enter your name\")\n",
    "print(a)\n",
    "print(type(a))\n",
    " "
   ]
  },
  {
   "cell_type": "code",
   "execution_count": 2,
   "id": "0f935569-a1c2-4b2a-bef6-66cb8d91cd83",
   "metadata": {},
   "outputs": [
    {
     "name": "stdout",
     "output_type": "stream",
     "text": [
      "1.3625\n",
      "<class 'float'>\n"
     ]
    }
   ],
   "source": [
    "b=1.3625\n",
    "print(b)\n",
    "print(type(b))"
   ]
  },
  {
   "cell_type": "code",
   "execution_count": 6,
   "id": "2e86ba58-91a7-484b-935e-6902cb4fe5c8",
   "metadata": {},
   "outputs": [
    {
     "ename": "NameError",
     "evalue": "name 'k' is not defined",
     "output_type": "error",
     "traceback": [
      "\u001b[1;31m---------------------------------------------------------------------------\u001b[0m",
      "\u001b[1;31mNameError\u001b[0m                                 Traceback (most recent call last)",
      "Input \u001b[1;32mIn [6]\u001b[0m, in \u001b[0;36m<cell line: 6>\u001b[1;34m()\u001b[0m\n\u001b[0;32m      4\u001b[0m d\u001b[38;5;241m=\u001b[39m\u001b[38;5;28;01mTrue\u001b[39;00m,\u001b[38;5;28;01mFalse\u001b[39;00m\n\u001b[0;32m      5\u001b[0m letk\u001b[38;5;241m=\u001b[39ma\u001b[38;5;241m=\u001b[39mb\u001b[38;5;241m=\u001b[39mc\u001b[38;5;241m=\u001b[39md\n\u001b[1;32m----> 6\u001b[0m \u001b[38;5;28mprint\u001b[39m(\u001b[43mk\u001b[49m)\n\u001b[0;32m      7\u001b[0m \u001b[38;5;28mprint\u001b[39m(\u001b[38;5;28mtype\u001b[39m(k))\n",
      "\u001b[1;31mNameError\u001b[0m: name 'k' is not defined"
     ]
    }
   ],
   "source": [
    "a=(\"entre your name\")\n",
    "b=123654\n",
    "c=1.2365\n",
    "d=True,False\n",
    "k =a=b=c=d\n",
    "print(k)\n",
    "print(type(k))"
   ]
  },
  {
   "cell_type": "code",
   "execution_count": null,
   "id": "bc82caa3-f525-43f0-beb7-b09b3d6bcff9",
   "metadata": {},
   "outputs": [],
   "source": []
  },
  {
   "cell_type": "code",
   "execution_count": null,
   "id": "c6b5861d-f953-4a0b-b306-52f9bb3e5990",
   "metadata": {},
   "outputs": [],
   "source": [
    "from sqlite3 import Row\n",
    "\n",
    "\n",
    "class Car:\n",
    "    def __init__(self,license):\n",
    "        self.license = license\n",
    "        self.enginePower = 0\n",
    "        self.fileName= \"mycars.txt\"\n",
    "        self.carName = \"\"\n",
    "        self.numberOfCar = self.checkNoCars()  \n",
    "\n",
    "    def setEnginePower(self,enginePower):  \n",
    "        self.enginePower= enginePower  \n",
    "    \n",
    "    def setCarName(self,carName): \n",
    "        self.carName =carName\n",
    "\n",
    "    def WriteTofile(self):\n",
    "        write_str = self.license+\"\\t\"+str(self.carName)+\"\\n\" \n",
    "        \n",
    "        with open(self.fileName,\"a\") as fileWrite:\n",
    "            fileWrite.writelines(write_str)\n"
   ]
  },
  {
   "cell_type": "code",
   "execution_count": 2,
   "id": "99669ed5-c4bc-4a69-b4d4-55b1d8d5a60d",
   "metadata": {},
   "outputs": [
    {
     "ename": "FileNotFoundError",
     "evalue": "[Errno 2] No such file or directory: 'names.txt'",
     "output_type": "error",
     "traceback": [
      "\u001b[1;31m---------------------------------------------------------------------------\u001b[0m",
      "\u001b[1;31mFileNotFoundError\u001b[0m                         Traceback (most recent call last)",
      "Input \u001b[1;32mIn [2]\u001b[0m, in \u001b[0;36m<cell line: 2>\u001b[1;34m()\u001b[0m\n\u001b[0;32m      1\u001b[0m names \u001b[38;5;241m=\u001b[39m \u001b[38;5;124m\"\u001b[39m\u001b[38;5;124mnames.txt\u001b[39m\u001b[38;5;124m\"\u001b[39m\n\u001b[1;32m----> 2\u001b[0m \u001b[38;5;28;01mwith\u001b[39;00m \u001b[38;5;28;43mopen\u001b[39;49m\u001b[43m(\u001b[49m\u001b[43mnames\u001b[49m\u001b[43m,\u001b[49m\u001b[38;5;124;43m\"\u001b[39;49m\u001b[38;5;124;43mr\u001b[39;49m\u001b[38;5;124;43m\"\u001b[39;49m\u001b[43m)\u001b[49m\u001b[38;5;28;01mas\u001b[39;00m file:\n\u001b[0;32m      3\u001b[0m     file_data \u001b[38;5;241m=\u001b[39mfile\u001b[38;5;241m.\u001b[39mreadlines()\n\u001b[0;32m      4\u001b[0m \u001b[38;5;28mprint\u001b[39m(file_data)\n",
      "\u001b[1;31mFileNotFoundError\u001b[0m: [Errno 2] No such file or directory: 'names.txt'"
     ]
    }
   ],
   "source": [
    "names = \"names.txt\"\n",
    "with open(names,\"r\")as file:\n",
    "    file_data =file.readlines()\n",
    "print(file_data)\n",
    "print(type(file_data))"
   ]
  },
  {
   "cell_type": "code",
   "execution_count": 3,
   "id": "5e32eb29-ed28-4c1d-b87a-1af5f2e317b3",
   "metadata": {},
   "outputs": [
    {
     "ename": "SyntaxError",
     "evalue": "invalid syntax (1711629528.py, line 2)",
     "output_type": "error",
     "traceback": [
      "\u001b[1;36m  Input \u001b[1;32mIn [3]\u001b[1;36m\u001b[0m\n\u001b[1;33m    with open(names.\"r\") as file;\u001b[0m\n\u001b[1;37m                    ^\u001b[0m\n\u001b[1;31mSyntaxError\u001b[0m\u001b[1;31m:\u001b[0m invalid syntax\n"
     ]
    }
   ],
   "source": [
    "name=\"names.txt\"\n",
    "with open(names.\"r\") as file;\n",
    "    file_data=file.readlines()\n",
    "print(file_data)\n",
    "print(type(file_data))"
   ]
  },
  {
   "cell_type": "code",
   "execution_count": null,
   "id": "8a5a814f-1fc1-47c7-9d45-616e2dfb3c77",
   "metadata": {},
   "outputs": [],
   "source": [
    "from sqlite3 import Row\n",
    "\n",
    "\n",
    "class Car:\n",
    "    def __init__(self,license): \n",
    "        self.license = license\n",
    "        self.enginePower = 0           \n",
    "        self.fileName= \"mycars.txt\"\n",
    "        self.carName = \"\"\n",
    "        self.numberOfCar = self.checkNoCars()   \n",
    "\n",
    "    def setEnginePower(self,enginePower):   fc \n",
    "        self.enginePower= enginePower     \n",
    "    \n",
    "    def setCarName(self,carName):  \n",
    "        self.carName =carName \n",
    "\n",
    "    def WriteTofile(self): \n",
    "        write_str = self.license+\"\\t\"+str(self.carName)+\"\\n\"  \n",
    "        \n",
    "        with open(self.fileName,\"a\") as fileWrite:\n",
    "            fileWrite.writelines(write_str)\n"
   ]
  },
  {
   "cell_type": "code",
   "execution_count": null,
   "id": "6aaacb7d-6664-4502-ad87-475ad1f9ec2a",
   "metadata": {},
   "outputs": [],
   "source": [
    "front aqlite3 import Row \n",
    "\n",
    "class Car\n",
    "      def setEnginerPower (self;enginePower);\n",
    "           self.enginerpower=enginerPower\n",
    "       \n",
    "    \n",
    "       def setcarName(self;carName);\n",
    "            self.carName=carName\n",
    "            \n",
    "            \n",
    "        def Write Tofile   \n",
    "            "
   ]
  },
  {
   "cell_type": "code",
   "execution_count": null,
   "id": "5e773b07-2f03-4f49-a375-bdf0e0ac11fc",
   "metadata": {},
   "outputs": [],
   "source": [
    "front aqlite3 import Row\n",
    "\n",
    "class Car\n",
    "      def setenginerpower (self:enginePower)\n",
    "           self.enginerpower=enginerPower        \n",
    "    \n",
    "def       \n",
    "    \n",
    "            def write Tofile(self;carName)\n",
    "               self\n",
    "    "
   ]
  },
  {
   "cell_type": "code",
   "execution_count": null,
   "id": "9b1ce100-849f-4713-a8ef-e3f5e5ebd352",
   "metadata": {},
   "outputs": [],
   "source": [
    "\"Hello\" = string\n",
    "1.236= float\n",
    "123654= integer\n",
    "true;false= bollern"
   ]
  },
  {
   "cell_type": "code",
   "execution_count": 2,
   "id": "f7f0f1d3-f942-4666-9091-b0abb0176fe3",
   "metadata": {},
   "outputs": [
    {
     "name": "stdout",
     "output_type": "stream",
     "text": [
      "you are not allowed by alchol and beer\n"
     ]
    }
   ],
   "source": [
    "age=17\n",
    "if age<18:\n",
    "    print(\"you are not allowed by alchol and beer\")"
   ]
  },
  {
   "cell_type": "code",
   "execution_count": 4,
   "id": "65bb8710-a0f2-4e88-a034-5b05be28f71c",
   "metadata": {},
   "outputs": [
    {
     "name": "stdout",
     "output_type": "stream",
     "text": [
      "you are not allowed by alchol and beer\n"
     ]
    }
   ],
   "source": [
    "age=15\n",
    "if age<16:\n",
    "    print(\"you are not allowed by alchol and beer\")"
   ]
  },
  {
   "cell_type": "code",
   "execution_count": 6,
   "id": "15b28421-291a-4a1c-81bf-1f423f1da902",
   "metadata": {},
   "outputs": [
    {
     "name": "stdout",
     "output_type": "stream",
     "text": [
      "I dont know\n"
     ]
    },
    {
     "name": "stderr",
     "output_type": "stream",
     "text": [
      "<>:2: SyntaxWarning: \"is\" with a literal. Did you mean \"==\"?\n",
      "<>:4: SyntaxWarning: \"is\" with a literal. Did you mean \"==\"?\n",
      "<>:2: SyntaxWarning: \"is\" with a literal. Did you mean \"==\"?\n",
      "<>:4: SyntaxWarning: \"is\" with a literal. Did you mean \"==\"?\n",
      "C:\\Users\\User\\AppData\\Local\\Temp\\ipykernel_10756\\1289952902.py:2: SyntaxWarning: \"is\" with a literal. Did you mean \"==\"?\n",
      "  if name is \"Tony\":\n",
      "C:\\Users\\User\\AppData\\Local\\Temp\\ipykernel_10756\\1289952902.py:4: SyntaxWarning: \"is\" with a literal. Did you mean \"==\"?\n",
      "  elif name is \"jame\":\n"
     ]
    }
   ],
   "source": [
    "name=\"kaung kaung\"\n",
    "if name is \"Tony\":\n",
    "    print(\"welcome my home\")\n",
    "elif name is \"jame\":\n",
    "     print(\"welcome my home\")\n",
    "else:\n",
    "     print(\"I dont know\")\n",
    "    "
   ]
  },
  {
   "cell_type": "code",
   "execution_count": 7,
   "id": "485a3603-5b59-4acd-8326-8fe679f6d8eb",
   "metadata": {},
   "outputs": [
    {
     "name": "stdout",
     "output_type": "stream",
     "text": [
      "apple\n"
     ]
    },
    {
     "name": "stderr",
     "output_type": "stream",
     "text": [
      "<>:2: SyntaxWarning: \"is\" with a literal. Did you mean \"==\"?\n",
      "<>:4: SyntaxWarning: \"is\" with a literal. Did you mean \"==\"?\n",
      "<>:2: SyntaxWarning: \"is\" with a literal. Did you mean \"==\"?\n",
      "<>:4: SyntaxWarning: \"is\" with a literal. Did you mean \"==\"?\n",
      "C:\\Users\\User\\AppData\\Local\\Temp\\ipykernel_10756\\695677967.py:2: SyntaxWarning: \"is\" with a literal. Did you mean \"==\"?\n",
      "  if name is \"tony\":\n",
      "C:\\Users\\User\\AppData\\Local\\Temp\\ipykernel_10756\\695677967.py:4: SyntaxWarning: \"is\" with a literal. Did you mean \"==\"?\n",
      "  elif name is \"tiger\":\n"
     ]
    }
   ],
   "source": [
    "name=\"apple\"\n",
    "if name is \"tony\":\n",
    "     print(\"wellcome my home\")\n",
    "elif name is \"tiger\":\n",
    "      print(\"wellcome my home\")\n",
    "else:\n",
    "    print(\"apple\")\n"
   ]
  },
  {
   "cell_type": "code",
   "execution_count": null,
   "id": "dd0850ef-725d-4379-b7e6-4b289d8b3c38",
   "metadata": {},
   "outputs": [],
   "source": [
    "def calReturnAmountRecord(initAmount, rate, numOfDays):\n",
    "    \n",
    "\n",
    "    pay_list = {}\n",
    "    payRollAmount = initAmount\n",
    "    for i in range(1,numOfDays+1,1):\n",
    "        increateRate =  (rate/100)*payRollAmount\n",
    "        out_str = \"Increate Rate of \"+str(i)+\"-month: \"+str(increateRate)\n",
    "        payRollAmount = increateRate+payRollAmount\n",
    "        key = str(i)+\"-month\"\n",
    "        pay_list[key] = int(payRollAmount)\n",
    "    \n",
    "    return pay_list"
   ]
  },
  {
   "cell_type": "code",
   "execution_count": null,
   "id": "5eee4b1b-4411-45e5-9cea-bae787900afc",
   "metadata": {},
   "outputs": [],
   "source": [
    "def calReturnAmontRecord(initAmont;rate;numofDays):\n",
    "    \n",
    "    pay_list = {}\n",
    "    payRollAmount = initialAmount\n",
    "    for i in range(1;numofDays+1;1):\n",
    "        increativeRate=  (rate/100)*payRollAmount\n",
    "        out_srt=\"Increate Rate of \"+str(i)+(\"mount:\") +str(increateRate)\n",
    "        payRollamount =increate+payrollAmount\n",
    "        key = str(i)+\"mount\"   \n",
    "        pay_list(key)= int(payRollAmount)\n",
    "        \n",
    "        return pay_list"
   ]
  },
  {
   "cell_type": "code",
   "execution_count": null,
   "id": "fd75f3d6-9690-4e13-94f3-70e7701a300d",
   "metadata": {},
   "outputs": [],
   "source": [
    "from sqlite3 import Row\n",
    "\n",
    "\n",
    "class Car:\n",
    "    def __init__(self,license): \n",
    "        self.license = license\n",
    "        self.enginePower = 0           \n",
    "        self.fileName= \"mycars.txt\"\n",
    "        self.carName = \"\"\n",
    "        self.numberOfCar = self.checkNoCars()   \n",
    "\n",
    "    def setEnginePower(self,enginePower):   fc \n",
    "        self.enginePower= enginePower     \n",
    "    \n",
    "    def setCarName(self,carName):  \n",
    "        self.carName =carName \n",
    "\n",
    "    def WriteTofile(self): \n",
    "        write_str = self.license+\"\\t\"+str(self.carName)+\"\\n\"  \n",
    "        \n",
    "        with open(self.fileName,\"a\") as fileWrite:\n",
    "            fileWrite.writelines(write_str)"
   ]
  },
  {
   "cell_type": "code",
   "execution_count": null,
   "id": "888af151-8506-4df8-90d4-55c14a76cd36",
   "metadata": {},
   "outputs": [],
   "source": [
    "from sqlite3 import Row\n",
    "\n",
    "\n",
    "class car:\n",
    "    def_init_ (self;license):\n",
    "        self.license = license\n",
    "        self.enginerPower = 0\n",
    "        self.fileName=\"mycars.txt\"\n",
    "        self.numberofCar =self.checkNoCars()\n",
    "        \n",
    "    def setEnginePower(self,enginePower): fc\n",
    "         self.enginePower=enginePower\n",
    "        \n",
    "        \n",
    "    def setCarName(self,carName)\n",
    "         self.carName=carName\n",
    "        \n",
    "        \n",
    "    def WriteTofile(self):\n",
    "        write_str = self.license+\"/t+str(self.carName)+\"/n\"\n",
    "        \n",
    "        with open(self.fileName;\"a\")as fileWrite:\n",
    "            fileWrite.writelines(write_str)"
   ]
  },
  {
   "cell_type": "code",
   "execution_count": null,
   "id": "646489ad-3c16-4809-afe5-de059f006dfe",
   "metadata": {},
   "outputs": [],
   "source": [
    "class car:\n",
    "     def_init_(self;license):\n",
    "        self.license = license\n",
    "        self.enginerPower=0\n",
    "        self.fileName=\"mycars\".txt\"\n",
    "        self.numberofcar=self.checkNoCars()\n",
    "        \n",
    "     def  setEnginePower(self;enginePower):fc\n",
    "           self.enginePower=enginePower\n",
    "        \n",
    "        \n",
    "     def setCarName(self;carName)\n",
    "          self.carName=carName\n",
    "        \n",
    "     def WriteTofile(self):\n",
    "         Write_str = self.license+/+str(self.carname)+/n\"\n",
    "            \n",
    "            \n",
    "          with open(self.fileName;\"a\")as fileWrite:\n",
    "                fileWrite.WriteLines(write_str)\n",
    "        \n",
    "        \n",
    "        \n",
    "     "
   ]
  },
  {
   "cell_type": "code",
   "execution_count": null,
   "id": "64d6d76b-c371-4e09-99ef-310987eb7531",
   "metadata": {},
   "outputs": [],
   "source": [
    "class India():\n",
    "    def capital(self):\n",
    "        print(\"New Delhi is the capital of India.\")\n",
    "  \n",
    "    def language(self):\n",
    "        print(\"Hindi is the most widely spoken language of India.\")\n",
    "  \n",
    "    def type(self):\n",
    "        print(\"India is a developing country.\")\n",
    "        \n",
    "\n",
    "\n",
    "class USA():\n",
    "    def capital(self):\n",
    "        print(\"Washington, D.C. is the capital of USA.\")\n",
    "  \n",
    "    def language(self):\n",
    "        print(\"English is the primary language of USA.\")\n",
    "  \n",
    "    def type(self):\n",
    "        print(\"USA is a developed country.\")"
   ]
  },
  {
   "cell_type": "code",
   "execution_count": null,
   "id": "b3b25317-ed99-4327-b630-865bae5f6e6d",
   "metadata": {},
   "outputs": [],
   "source": [
    "class India():\n",
    "     def capital(self):\n",
    "        print(\"New Delhi is the capital of india\")\n",
    "     \n",
    "    def language(self):\n",
    "        print(\"Hindi is the most widely spoken language of India\")\n",
    "        \n",
    "    def type(self):\n",
    "        print(\"India is a developing country\")\n",
    "        \n",
    "        \n",
    "class USA()\n",
    "\n",
    "   def capital(self);\n",
    "        print(\"English is the primary language of USA.\")\n",
    "        \n",
    "    def type(self):\n",
    "        print(\"USA is a developed country.\")"
   ]
  },
  {
   "cell_type": "code",
   "execution_count": null,
   "id": "b3070599-fb80-4dc0-8309-5530920e76f9",
   "metadata": {},
   "outputs": [],
   "source": [
    "class India()\n",
    "      def capital(self):\n",
    "          print(\"New Delhi is the capital of india\")\n",
    "            \n",
    "    def  language(self):\n",
    "           print(\"Hindi is the most widely spoken language of india\")\n",
    "            \n",
    "    def   language(self):\n",
    "            print(\"Indi is a developing country\")\n",
    "            \n",
    "            \n",
    "class  USA()\n",
    "\n",
    "  \n",
    "    def  capital(self);\n",
    "         print(\"English is the primary language of USA\")\n",
    "        \n",
    "      \n",
    "    def type(self):\n",
    "        print(\"USA is a developed country\")\n",
    "           \n",
    "            "
   ]
  },
  {
   "cell_type": "code",
   "execution_count": null,
   "id": "78a45a8f-6b1c-42f5-91d4-1158b29c58b8",
   "metadata": {},
   "outputs": [],
   "source": [
    "class Car:\n",
    "    def __init__(self,license):\n",
    "        self.license = license\n",
    "        self.enginePower = 0\n",
    "        self.fileName= \"mycars.txt\"\n",
    "\n",
    "    def setEnginePower(self,enginePower):\n",
    "        self.enginePower= enginePower\n",
    "        \n",
    "    def WriteTofile(self):\n",
    "        write_str = self.license+\"\\t\"+str(self.enginePower)+\"\\n\"\n",
    "        \n",
    "        with open(self.fileName,\"a\") as fileWrite:\n",
    "            fileWrite.writelines(write_str)"
   ]
  },
  {
   "cell_type": "code",
   "execution_count": null,
   "id": "04b1eb48-23d7-4943-a2ac-ab1572f676d7",
   "metadata": {},
   "outputs": [],
   "source": [
    "class Caar:\n",
    "     def_init_(self;license):\n",
    "        self.license= license\n",
    "        self.enginepower =0\n",
    "        self.fileName= \"mycars.txt\"\n",
    "        \n",
    "def   setEnginePower(self,enginePower):\n",
    "       self.enginePower= enginePower\n",
    "        \n",
    "def WriteTofile(self):\n",
    "     Write_str= self.license+/t\"+str(self.enginePower)+/n\"\n",
    "        \n",
    "        write open(self.fileName,\"a\")as fileWrite:\n",
    "            fileWrite.writelines(write_str)\n",
    "        "
   ]
  },
  {
   "cell_type": "code",
   "execution_count": null,
   "id": "f4e7b793-dfa5-48de-aba1-e503381cfc22",
   "metadata": {},
   "outputs": [],
   "source": [
    "class car:\n",
    "    def_int-(self;license):\n",
    "        self.license=license\n",
    "        self.enginepower=0\n",
    "        self.enginePower=0\n",
    "        \n",
    "def   setEnginePower(self;enginePower):\n",
    "      self.enginePower=enginePower\n",
    "        \n",
    "        \n",
    "def WriteTofile(self):\n",
    "     Write_str= self.license+/t\"str(self.enginePower)+/n\"\n",
    "        \n",
    "        Write open(self.fileName,\"a\")as fileWrite:\n",
    "            fileWrite.writelines(write_str)\n",
    "    "
   ]
  },
  {
   "cell_type": "code",
   "execution_count": null,
   "id": "0a9131a1-871b-45b4-add6-c11e8bb9a705",
   "metadata": {},
   "outputs": [],
   "source": [
    "class caar:\n",
    "    def_int_(self;license):\n",
    "        self.license=license\n",
    "        self.enginepower=0\n",
    "        self.enginepower=0\n",
    "        \n",
    "def  setEnginePower(self;enginePower):\n",
    "     self.enginePower=enginePower\n",
    "        \n",
    "        \n",
    "def WriteTofile(self):\n",
    "    Write_str=self.license+/\"str(self.enginepower)+/n\""
   ]
  },
  {
   "cell_type": "code",
   "execution_count": 1,
   "id": "0927c31d-647f-42bb-8416-e19911ab7ffd",
   "metadata": {},
   "outputs": [
    {
     "ename": "SyntaxError",
     "evalue": "invalid syntax (1150771627.py, line 2)",
     "output_type": "error",
     "traceback": [
      "\u001b[1;36m  Input \u001b[1;32mIn [1]\u001b[1;36m\u001b[0m\n\u001b[1;33m    def_int_(self;licence):\u001b[0m\n\u001b[1;37m                 ^\u001b[0m\n\u001b[1;31mSyntaxError\u001b[0m\u001b[1;31m:\u001b[0m invalid syntax\n"
     ]
    }
   ],
   "source": [
    "class car:\n",
    "    def_int_(self;licence):\n",
    "        self.licese=license\n",
    "        self.enginePower=0\n",
    "        self.enginePower=0\n",
    "        \n",
    "def setEnginePower(self;enginePower)\n",
    "     self.enginePower=enginePower\n",
    "    \n",
    "    \n",
    "def WriteTofile(self):\n",
    "    Write_str=self.licence=enginePower\n",
    "    \n",
    "    \n",
    "def WriteTofile(self):\n",
    "    Write_str=self.licence+/\"str(self.enginePower)+/n\""
   ]
  },
  {
   "cell_type": "code",
   "execution_count": null,
   "id": "0cec5bb8-0664-4d83-abc1-007ce4005dd5",
   "metadata": {},
   "outputs": [],
   "source": [
    "class  lightTruck:\n",
    "    def_int_(self;licence):\n",
    "        self>enginePower=0\n",
    "        self.enginePower=0\n",
    "        self.enginePower=0\n",
    "def setEnginePower(self;enginePower)\n",
    "    self.enginePower=enginePower\n",
    "    \n",
    "def WriteTofile(self):\n",
    "    Write_str=self.license=engiePower\n",
    "    \n",
    "    \n",
    "def WriteTofile(self)\n",
    "    Write_str=self.license=enginePower\n",
    "    \n",
    "    \n",
    "def license setEnginePower(self;enginePower)\n",
    "    Write_str=self.licese=enginePower\n",
    "    \n",
    "                   "
   ]
  },
  {
   "cell_type": "code",
   "execution_count": null,
   "id": "0b806679-2b71-498a-8575-dbecb1d5b633",
   "metadata": {},
   "outputs": [],
   "source": [
    "class lighttruck:\n",
    "    def_int_(self;license):\n",
    "        self>enginePower=0\n",
    "        self.enginePower=0\n",
    "        self.enginePower=0\n",
    "def setEnginePower(self;enginePower)\n",
    "     self.enginePower=enginePower\n",
    "\n",
    "def WriteTofile(self)\n",
    "  Write_str=self.license=enginePower\n",
    "    \n",
    "    \n",
    "def license setEnginePower(self;enginePower)\n",
    "    Write_str=self.licese=enginePower\n",
    "    \n",
    "    \n",
    "    def WriteTofile(self):\n",
    "    Write_str=self.licence+/\"str(self.enginePower)+/n\"    \n",
    "    "
   ]
  },
  {
   "cell_type": "code",
   "execution_count": null,
   "id": "3317562b-7fae-4388-bd4c-75338f2aecfd",
   "metadata": {},
   "outputs": [],
   "source": [
    " class  mark2:\n",
    "        def_int_(self;License):\n",
    "            self>enginePower=0\n",
    "            self.enginePower=0\n",
    "            self.enginePower=0\n",
    "def setEnginePower(self;enginePower)\n",
    "     self.enginePower=enginePower\n",
    "    \n",
    "def WriteTofile(self)\n",
    "      write_str=self.licese=enginePower\n",
    "    \n",
    "    \n",
    "def license selfEnginePower(self:enginepower)\n",
    "      Write_str=self.license=enginePower\n",
    "    \n",
    "   \n",
    "  def WriteTofile(self);\n",
    "    Write_str=self.license+\\\"str(self.enginePower)+?\"n\"\n",
    "    "
   ]
  },
  {
   "cell_type": "code",
   "execution_count": null,
   "id": "27247bec-6c25-4264-9ce2-7fd1b59f4be8",
   "metadata": {},
   "outputs": [],
   "source": [
    " class  tyotyta:\n",
    "        def_int_(self;License):\n",
    "            self>enginePower=0\n",
    "            self.enginePower=0\n",
    "            self.enginePower=0\n",
    "def setEnginePower(self;enginePower)\n",
    "     self.enginePower=enginePower\n",
    "    \n",
    "def WriteTofile(self)\n",
    "     Write_str=self.license=enginePower\n",
    "    \n",
    "    \n",
    "def license selfEnginerPower(self;license)\n",
    "     self.enginePower=0\n",
    "\n",
    "\n"
   ]
  },
  {
   "cell_type": "code",
   "execution_count": null,
   "id": "6e672a1c-db3b-4879-9413-1e9d2a8b166f",
   "metadata": {},
   "outputs": [],
   "source": [
    "class Perceptron:\n",
    "    \n",
    "    def __init__(self,inputs,outputs):\n",
    "        self.inputs = inputs\n",
    "        self.outputs = outputs\n",
    "        \n",
    "        initialize weights in random\n",
    "        self.weights = np.array([[0.7],[0.2],[0.3]])\n",
    "        \n",
    "        self.error_history  = []\n",
    "        self.epoch_list = []\n",
    "        \n",
    "        \n",
    "    def sigmoid(self,z,derive = False):\n",
    "        if derive == True:\n",
    "            return z *(1-z)   da/dz  = ⅆ𝜎(𝑧)/ⅆ𝑧\n",
    "        \n",
    "        return 1/(1 + np.exp(-z))\n",
    "    \n",
    "    "
   ]
  },
  {
   "cell_type": "code",
   "execution_count": null,
   "id": "afdb4cf0-4d84-466c-a463-7b663d4d9111",
   "metadata": {},
   "outputs": [],
   "source": [
    "class Percetion:\n",
    "    def_init_(self;input;outputs):\n",
    "        self.inputs=inputs\n",
    "        self.outouts=outputs\n",
    "        \n",
    "        initialize weights in random\n",
    "        self.weights=np.arrary([0.3],[0.6])\n",
    "        \n",
    "        self.error-history=[]\n",
    "        self.epoch_list=[]\n",
    "        \n",
    "    \n",
    "    def sigmoid(self,z,dervie=false);\n",
    "      if dervie==True\n",
    "          return z*(1-z)  da/dz  =da(z)dz\n",
    "                                     \n",
    "        return 1(1+np.exp(-z))\n",
    "    "
   ]
  },
  {
   "cell_type": "code",
   "execution_count": null,
   "id": "339c7edb-b6f5-41b2-81d9-849cb632a0b5",
   "metadata": {},
   "outputs": [],
   "source": [
    "class Precetion\n",
    "      def_int_(self;input:outputs;)\n",
    "        self.input=inputs\n",
    "        self.outouts=outputs\n",
    "        \n",
    "        initialize weights in random\n",
    "        self.weights=np.arrary([0.3];[0.6]\n",
    "        \n",
    "        self.eroor-history=[]\n",
    "        self.epoch_list=[]\n",
    "                               \n",
    "     def sigmoid(self,z,dervie=false);\n",
    "\n",
    "\n",
    "          return 1(1+np.expz(-z))                    \n",
    "            "
   ]
  },
  {
   "cell_type": "code",
   "execution_count": null,
   "id": "ada7513f-3254-44c8-bbaa-5b1ebf196c1d",
   "metadata": {},
   "outputs": [],
   "source": [
    "class Precetion\n",
    "      def_int_(self;inpout:output;)\n",
    "        self.input=inputs\n",
    "        self.out=outputs\n",
    "        \n",
    "        initialize weight in random\n",
    "        self.weight=np.arrary([0.6];[0.3])\n",
    "        \n",
    "        self.weight=np.a\n",
    "        self.eroor_history=[]\n",
    "        \n",
    "    def sigmoid(self;zdervize=false);\n",
    "         \n",
    "        return 1 (1+np.expz(-z))\n",
    "        "
   ]
  },
  {
   "cell_type": "code",
   "execution_count": null,
   "id": "986c3cb8-fdbd-4a92-a0a1-bfa2743e0889",
   "metadata": {},
   "outputs": [],
   "source": [
    "string = \"kaung kaung\" \n",
    "float=1.369521\n",
    "integer=123654\n",
    "boolern=True;False"
   ]
  },
  {
   "cell_type": "code",
   "execution_count": 1,
   "id": "58f49970-e8c2-4ae9-8f13-c2fec40f7865",
   "metadata": {},
   "outputs": [
    {
     "name": "stdout",
     "output_type": "stream",
     "text": [
      "40\n"
     ]
    }
   ],
   "source": [
    "num=20\n",
    "num=20\n",
    "print(num+num)"
   ]
  },
  {
   "cell_type": "code",
   "execution_count": 2,
   "id": "8bbc9ac9-9f73-4b76-8670-db4d9ba30c2f",
   "metadata": {},
   "outputs": [
    {
     "name": "stdout",
     "output_type": "stream",
     "text": [
      "<class 'str'>\n",
      "<class 'int'>\n"
     ]
    }
   ],
   "source": [
    "name=\"kaung kaung\"\n",
    "print(type(name))\n",
    "yournumber=10\n",
    "print(type(yournumber))"
   ]
  },
  {
   "cell_type": "code",
   "execution_count": 5,
   "id": "ed7ac1ca-051d-4e13-98ac-da45b1f5e0c5",
   "metadata": {},
   "outputs": [
    {
     "name": "stdout",
     "output_type": "stream",
     "text": [
      "<class 'str'>\n",
      "<class 'int'>\n",
      "<class 'float'>\n",
      "<class 'bool'>\n"
     ]
    }
   ],
   "source": [
    "name=\"kaung kaung\"\n",
    "print(type(name))\n",
    "yourage=10\n",
    "print(type(yourage))\n",
    "yourheight=5.5\n",
    "print(type(yourheight))\n",
    "yoursingle=True\n",
    "print(type(yoursingle))"
   ]
  },
  {
   "cell_type": "code",
   "execution_count": 6,
   "id": "19b0e60d-9c9b-4949-bd8d-555268a9e453",
   "metadata": {},
   "outputs": [
    {
     "name": "stdout",
     "output_type": "stream",
     "text": [
      "<class 'int'>\n"
     ]
    }
   ],
   "source": [
    "let1=name,yourage,yourheight,yoursingle\n",
    "name=\"Tony\"\n",
    "yourage=20\n",
    "yourheight=5.5\n",
    "yoursingle=True\n",
    "print(type(1))"
   ]
  },
  {
   "cell_type": "code",
   "execution_count": 11,
   "id": "24caea16-2a26-4c1b-8d84-00f0de455dad",
   "metadata": {},
   "outputs": [
    {
     "ename": "NameError",
     "evalue": "name 'code_name' is not defined",
     "output_type": "error",
     "traceback": [
      "\u001b[1;31m---------------------------------------------------------------------------\u001b[0m",
      "\u001b[1;31mNameError\u001b[0m                                 Traceback (most recent call last)",
      "Input \u001b[1;32mIn [11]\u001b[0m, in \u001b[0;36m<cell line: 4>\u001b[1;34m()\u001b[0m\n\u001b[0;32m      2\u001b[0m code\u001b[38;5;241m=\u001b[39m\u001b[38;5;241m9\u001b[39m\n\u001b[0;32m      3\u001b[0m name_code\u001b[38;5;241m=\u001b[39mname\u001b[38;5;241m+\u001b[39m\u001b[38;5;28mstr\u001b[39m(code)\n\u001b[1;32m----> 4\u001b[0m \u001b[38;5;28mprint\u001b[39m(\u001b[43mcode_name\u001b[49m)\n\u001b[0;32m      5\u001b[0m \u001b[38;5;28mprint\u001b[39m(\u001b[38;5;28mtype\u001b[39m(code_name))\n",
      "\u001b[1;31mNameError\u001b[0m: name 'code_name' is not defined"
     ]
    }
   ],
   "source": [
    "name=\"ksh\"\n",
    "code=9\n",
    "name_code=name+str(code)\n",
    "print(code_name)\n",
    "print(type(code_name))"
   ]
  },
  {
   "cell_type": "code",
   "execution_count": 14,
   "id": "b5bc0f79-91a6-42d1-b5dd-238002df5bdd",
   "metadata": {},
   "outputs": [
    {
     "ename": "NameError",
     "evalue": "name 'code_name' is not defined",
     "output_type": "error",
     "traceback": [
      "\u001b[1;31m---------------------------------------------------------------------------\u001b[0m",
      "\u001b[1;31mNameError\u001b[0m                                 Traceback (most recent call last)",
      "Input \u001b[1;32mIn [14]\u001b[0m, in \u001b[0;36m<cell line: 3>\u001b[1;34m()\u001b[0m\n\u001b[0;32m      1\u001b[0m name\u001b[38;5;241m=\u001b[39m\u001b[38;5;124m\"\u001b[39m\u001b[38;5;124mksh\u001b[39m\u001b[38;5;124m\"\u001b[39m\n\u001b[0;32m      2\u001b[0m code\u001b[38;5;241m=\u001b[39m\u001b[38;5;241m9\u001b[39m\n\u001b[1;32m----> 3\u001b[0m name_code\u001b[38;5;241m=\u001b[39mname\u001b[38;5;241m+\u001b[39m\u001b[38;5;28mstr\u001b[39m(\u001b[43mcode_name\u001b[49m)\n\u001b[0;32m      4\u001b[0m \u001b[38;5;28mprint\u001b[39m(\u001b[38;5;28mtype\u001b[39m(codename))\n",
      "\u001b[1;31mNameError\u001b[0m: name 'code_name' is not defined"
     ]
    }
   ],
   "source": [
    "name=\"ksh\"\n",
    "code=9\n",
    "name_code=name+str(code_name)\n",
    "print(type(code_name))"
   ]
  },
  {
   "cell_type": "code",
   "execution_count": null,
   "id": "8343e72c-fd81-4aed-bd45-6f1ce7cc4fa7",
   "metadata": {},
   "outputs": [],
   "source": [
    "class Precetion\n",
    "      def_int_(self;inpout:output;)\n",
    "        self.input=inputs\n",
    "        self.out=outputs\n",
    "        \n",
    "        initialize weight in random\n",
    "        self.weight=np.arrary([0.6];[0.3])\n",
    "        \n",
    "        self.weight=np.a\n",
    "        self.eroor_history=[]\n",
    "        \n",
    "    "
   ]
  },
  {
   "cell_type": "code",
   "execution_count": 15,
   "id": "c096adb6-8a39-4063-b739-78b46e9f0f34",
   "metadata": {},
   "outputs": [
    {
     "name": "stdout",
     "output_type": "stream",
     "text": [
      "pass with fly the colour\n"
     ]
    }
   ],
   "source": [
    "num=18\n",
    "if num > 17:\n",
    "    print(\"pass with fly the colour\")\n",
    "    \n",
    "else:\n",
    "    print(\"normal pass\")"
   ]
  },
  {
   "cell_type": "code",
   "execution_count": 17,
   "id": "279b9493-1aa5-49e4-a34d-5a8ee57915bf",
   "metadata": {},
   "outputs": [
    {
     "name": "stdout",
     "output_type": "stream",
     "text": [
      "pass with fly the colour\n"
     ]
    }
   ],
   "source": [
    "num=80\n",
    "if num > 40:\n",
    "     print(\"pass with fly the colour\")\n",
    "else:\n",
    "    print(\"normal pass\")"
   ]
  },
  {
   "cell_type": "code",
   "execution_count": 18,
   "id": "b578d7f6-9c02-496e-be83-e0610f6db5d5",
   "metadata": {},
   "outputs": [
    {
     "name": "stdout",
     "output_type": "stream",
     "text": [
      "{20, 70, 40, 10, 30}\n",
      "<class 'set'>\n"
     ]
    }
   ],
   "source": [
    "marks={10,20,30,40,70}\n",
    "print(marks)\n",
    "print(type(marks))"
   ]
  },
  {
   "cell_type": "code",
   "execution_count": 19,
   "id": "5719096c-407a-4cad-987a-93a1e7cf0161",
   "metadata": {},
   "outputs": [
    {
     "name": "stdout",
     "output_type": "stream",
     "text": [
      "{10, 20, 50, 30}\n",
      "<class 'set'>\n"
     ]
    }
   ],
   "source": [
    "marks={10,20,50,30,}\n",
    "print(marks)\n",
    "print(type(marks))"
   ]
  },
  {
   "cell_type": "code",
   "execution_count": 23,
   "id": "eb2d8453-01ef-4a65-9f8a-6d0e6695f5cd",
   "metadata": {},
   "outputs": [
    {
     "ename": "SyntaxError",
     "evalue": "invalid syntax (633487846.py, line 1)",
     "output_type": "error",
     "traceback": [
      "\u001b[1;36m  Input \u001b[1;32mIn [23]\u001b[1;36m\u001b[0m\n\u001b[1;33m    my Mark={\"eng\":70,\"mya\":60,\"math\":40}\u001b[0m\n\u001b[1;37m       ^\u001b[0m\n\u001b[1;31mSyntaxError\u001b[0m\u001b[1;31m:\u001b[0m invalid syntax\n"
     ]
    }
   ],
   "source": [
    "myMark={\"eng\":70,\"mya\":60,\"math\":40}\n",
    "print(myMark)"
   ]
  },
  {
   "cell_type": "code",
   "execution_count": 25,
   "id": "194f74b2-2185-4305-905d-f076ea67e698",
   "metadata": {},
   "outputs": [
    {
     "name": "stdout",
     "output_type": "stream",
     "text": [
      "{80, 50, 20, 14}\n"
     ]
    }
   ],
   "source": [
    "marks={20,50,80,14}\n",
    "print(marks)"
   ]
  },
  {
   "cell_type": "code",
   "execution_count": null,
   "id": "e2d9d857-1f35-42b0-a80f-6430ddabf935",
   "metadata": {},
   "outputs": [],
   "source": [
    "print(marks)\n",
    "print(\"Marks Length: \",len(marks))\n",
    "marks.remove(70) # only remove 1-item as a time\n",
    "print(\"Marks Length: \",len(marks))\n",
    "print(marks)"
   ]
  },
  {
   "cell_type": "code",
   "execution_count": 30,
   "id": "a5e79b4e-1c48-4a27-a8f6-25e6a4668b57",
   "metadata": {},
   "outputs": [
    {
     "ename": "SyntaxError",
     "evalue": "invalid syntax (2359745823.py, line 3)",
     "output_type": "error",
     "traceback": [
      "\u001b[1;36m  Input \u001b[1;32mIn [30]\u001b[1;36m\u001b[0m\n\u001b[1;33m    mark _remove(70)#only remove 1-item as time\u001b[0m\n\u001b[1;37m         ^\u001b[0m\n\u001b[1;31mSyntaxError\u001b[0m\u001b[1;31m:\u001b[0m invalid syntax\n"
     ]
    }
   ],
   "source": [
    "print(marks)\n",
    "print(\"Marks length:\",len(marks))\n",
    "mark _remove(70)#only remove 1-item as time\n",
    "print(\"Marks length:\",len(marks))\n",
    "print(marks)"
   ]
  },
  {
   "cell_type": "code",
   "execution_count": null,
   "id": "4b07bf6b-4863-4c67-b5a6-018c2adb91c0",
   "metadata": {},
   "outputs": [],
   "source": [
    "print(marks)\n",
    "print(\"Marks length:\",len(marks))\n",
    "mark_remove(70)#only remove 1_item as time\n",
    "print(\"Marks length:\",len(marks))\n",
    "print(marks)"
   ]
  },
  {
   "cell_type": "code",
   "execution_count": null,
   "id": "3c61f6e5-d7b1-47a5-a87d-e22576d2454b",
   "metadata": {},
   "outputs": [],
   "source": [
    "print(marks)\n",
    "print(\"Marks length\",len(marks))\n",
    "marks_remove(70)#only remove1_item as time\n",
    "print(\"Marks length,len(marks)\n",
    "print(marks)"
   ]
  },
  {
   "cell_type": "code",
   "execution_count": 1,
   "id": "8e457ace-f7b8-4b0c-b6cc-c2f46ae071f7",
   "metadata": {},
   "outputs": [
    {
     "name": "stdout",
     "output_type": "stream",
     "text": [
      "kaung kaung9\n",
      "<class 'str'>\n"
     ]
    }
   ],
   "source": [
    "name=\"kaung kaung\"\n",
    "code=9\n",
    "code_name=name+str(code)\n",
    "print(code_name)\n",
    "print(type(code_name))"
   ]
  },
  {
   "cell_type": "code",
   "execution_count": null,
   "id": "9e4ecb96-1a3c-40a6-9ffe-cf65bcba7f24",
   "metadata": {},
   "outputs": [],
   "source": [
    "mark=35"
   ]
  },
  {
   "cell_type": "code",
   "execution_count": 5,
   "id": "cbf692c8-ca40-404b-b03b-381d8ed79d18",
   "metadata": {},
   "outputs": [
    {
     "ename": "SyntaxError",
     "evalue": "invalid syntax (1813002321.py, line 7)",
     "output_type": "error",
     "traceback": [
      "\u001b[1;36m  Input \u001b[1;32mIn [5]\u001b[1;36m\u001b[0m\n\u001b[1;33m    else:\u001b[0m\n\u001b[1;37m    ^\u001b[0m\n\u001b[1;31mSyntaxError\u001b[0m\u001b[1;31m:\u001b[0m invalid syntax\n"
     ]
    }
   ],
   "source": [
    "if mark > 80:\n",
    "     print(\"A\")\n",
    "else:\n",
    "    if mark > 60:\n",
    "        print(\"B\")\n",
    "    \n",
    "      else:\n",
    "            if mark > 40:\n",
    "            print(\"C\")\n",
    "             else:\n",
    "                if mark > 40:\n",
    "                    print(\"D\")"
   ]
  },
  {
   "cell_type": "code",
   "execution_count": null,
   "id": "439674df-0b7e-472e-9f06-285e1d985e4d",
   "metadata": {},
   "outputs": [],
   "source": [
    "mark=35"
   ]
  },
  {
   "cell_type": "code",
   "execution_count": null,
   "id": "2c565348-5945-4803-8d82-fd6f8eb27d13",
   "metadata": {},
   "outputs": [],
   "source": [
    "if mark > 60:\n",
    "    print(\"A\")\n",
    "else:\n",
    "    if mark > 40:\n",
    "        print(\"B\")\n",
    "else:\n",
    "    if mark > 30:\n",
    "         print(\"C\")\n",
    "else:\n",
    "     if mark > 20:\n",
    "            print(\"D\")  "
   ]
  },
  {
   "cell_type": "code",
   "execution_count": null,
   "id": "8869903b-b9c1-4e14-ad4c-72e4d48895cc",
   "metadata": {},
   "outputs": [],
   "source": [
    "mark=35\n",
    "  print(\"A\")\n",
    "else:\n",
    "    if mark > 20\n",
    "      print(\"B\")\n",
    "else:\n",
    "      if mark > 60\n",
    "        print(\"C\")\n",
    "else: \n",
    "       if mark > 30\n",
    "          print(\"D\")"
   ]
  },
  {
   "cell_type": "code",
   "execution_count": null,
   "id": "6b079767-870a-4f30-ad42-5bada65575dc",
   "metadata": {},
   "outputs": [],
   "source": [
    "names = \"names.txt\"\n",
    "with open(names,\"r\") as file:\n",
    "    file_data =file.readlines()\n",
    "print(file_data)\n",
    "print(type(file_data))\n"
   ]
  },
  {
   "cell_type": "code",
   "execution_count": null,
   "id": "948fe665-c00e-4644-befe-2df58e474b2c",
   "metadata": {},
   "outputs": [],
   "source": [
    "class Car:\n",
    "    def __init__(self,license):\n",
    "        self.license = license\n",
    "        self.enginePower = 0\n",
    "        self.fileName= \"mycars.txt\"\n",
    "\n",
    "    def setEnginePower(self,enginePower):\n",
    "        self.enginePower= enginePower\n",
    "        \n",
    "    def WriteTofile(self):\n",
    "        write_str = self.license+\"\\t\"+str(self.enginePower)+\"\\n\"\n",
    "        \n",
    "        with open(self.fileName,\"a\") as fileWrite:\n",
    "            fileWrite.writelines(write_str)\n",
    "        "
   ]
  },
  {
   "cell_type": "code",
   "execution_count": null,
   "id": "ca31f042-0b69-43b4-a9cf-7d0b1408f27e",
   "metadata": {},
   "outputs": [],
   "source": [
    "class Car:\n",
    "    def_init_(self,license):\n",
    "        self.license=lisense\n",
    "        self.enginePower=0\n",
    "        self.fileName=\"mycars.\"txt\"\n",
    "        \n",
    "    def setEnginepower(self,enginePower):\n",
    "        self.enginePower=enginepower\n",
    "     \n",
    "    def WriteTofile(self):\n",
    "        write"
   ]
  },
  {
   "cell_type": "code",
   "execution_count": null,
   "id": "180ac253-6bc2-4b4c-ae1b-6510b2a5d3ae",
   "metadata": {},
   "outputs": [],
   "source": [
    "from LightTruck import LightTruck \n",
    "from Crown import Crown\n",
    "\n",
    "\n",
    "car_licenses = []\n",
    "\n",
    "fileName= \"mycars.txt\"\n",
    "def checkNoCars():\n",
    "        with open(fileName, \"r\") as file:\n",
    "            rows = file.readlines()\n",
    "            for currentRow in rows:\n",
    "                carData = currentRow.split(\"\\t\")\n",
    "                license_id =carData[0]\n",
    "                car_licenses.append(license_id)\n",
    "checkNoCars()"
   ]
  },
  {
   "cell_type": "code",
   "execution_count": null,
   "id": "f977eb3f-6912-44a7-a83d-8c0b3d595fd0",
   "metadata": {},
   "outputs": [],
   "source": [
    "from lightTruck import lightTruck\n",
    "from Crow import Crown\n",
    "\n",
    "car_licenses=[]\n",
    "def checkNoCars():\n",
    "    with open(fileNames,\"r\")as file:\n",
    "        for currentRow in rows:\n",
    "            carData=currentRow.split(\"\\t\")\n",
    "            license_id=carData[0]\n",
    "            car_license.append(license_id)\n",
    "checkNoCars()\n"
   ]
  },
  {
   "cell_type": "code",
   "execution_count": 1,
   "id": "59478139-aa37-4f3d-8133-e97718761396",
   "metadata": {},
   "outputs": [
    {
     "ename": "ModuleNotFoundError",
     "evalue": "No module named 'lightTruck'",
     "output_type": "error",
     "traceback": [
      "\u001b[1;31m---------------------------------------------------------------------------\u001b[0m",
      "\u001b[1;31mModuleNotFoundError\u001b[0m                       Traceback (most recent call last)",
      "Input \u001b[1;32mIn [1]\u001b[0m, in \u001b[0;36m<cell line: 1>\u001b[1;34m()\u001b[0m\n\u001b[1;32m----> 1\u001b[0m \u001b[38;5;28;01mfrom\u001b[39;00m \u001b[38;5;21;01mlightTruck\u001b[39;00m \u001b[38;5;28;01mimport\u001b[39;00m lightTruck\n\u001b[0;32m      2\u001b[0m \u001b[38;5;28;01mfrom\u001b[39;00m \u001b[38;5;21;01mCrow\u001b[39;00m \u001b[38;5;28;01mimport\u001b[39;00m Crown\n\u001b[0;32m      4\u001b[0m car_licenses\u001b[38;5;241m=\u001b[39m[]\n",
      "\u001b[1;31mModuleNotFoundError\u001b[0m: No module named 'lightTruck'"
     ]
    }
   ],
   "source": [
    "from lightTruck import lightTruck\n",
    "from Crow import Crown\n",
    "\n",
    "car_licenses=[]\n",
    "def checkNoCars():\n",
    "    with open(fileNames,\"r\")as file:\n",
    "        for currentRow in rows:\n",
    "            carData=currentRow.split(\"\\t\")\n",
    "            license_id=carData[0]\n",
    "            car_license.appened(license)\n",
    "checkNoCars()            "
   ]
  },
  {
   "cell_type": "code",
   "execution_count": null,
   "id": "8d0868d2-415a-437f-b0d8-ac30c157ac3c",
   "metadata": {},
   "outputs": [],
   "source": [
    "from lightTruck import lightTruck\n",
    "from Crow import Crow\n",
    "\n",
    "car_license=[]\n",
    "def checkNoCars():\n",
    "    with open(flieaNames;\"r\")as file:\n",
    "        for currentRow in row:\n",
    "            carData=currentRow.split(\"\\\")\n",
    "            license_id=carData[0]\n",
    "             car_license.appened(license)\n",
    "    \n",
    "                                     "
   ]
  },
  {
   "cell_type": "code",
   "execution_count": null,
   "id": "fc0c1cba-38d2-4c89-b742-a5c0c0b1d105",
   "metadata": {},
   "outputs": [],
   "source": [
    "from lightTruck import lightTruck\n",
    "from Crow import Crow\n",
    "\n",
    "car_license=[]\n",
    "def checkNocars():\n",
    "    with open(fileNames,\"r\")as file:\n",
    "        carData=currentRow.spolit(\"\\\")\n",
    "        license_id=carData[0]\n",
    "         car_license.appened(license)                         "
   ]
  },
  {
   "cell_type": "code",
   "execution_count": 7,
   "id": "9bdd25c5-a764-452f-9092-bc74679f9360",
   "metadata": {},
   "outputs": [
    {
     "ename": "SyntaxError",
     "evalue": "invalid syntax (3435689671.py, line 6)",
     "output_type": "error",
     "traceback": [
      "\u001b[1;36m  Input \u001b[1;32mIn [7]\u001b[1;36m\u001b[0m\n\u001b[1;33m    with open(filename,\"r\")as file\u001b[0m\n\u001b[1;37m                                  ^\u001b[0m\n\u001b[1;31mSyntaxError\u001b[0m\u001b[1;31m:\u001b[0m invalid syntax\n"
     ]
    }
   ],
   "source": [
    "from lightTruck import lightTruck\n",
    "from Crow import Crow\n",
    "\n",
    "car_license=[]\n",
    "def checkNocars():\n",
    "    with open(filename,\"r\")as file\n",
    "    carData=currentRow.sport(\"\\\")\n",
    "    license_id=carData[0]\n",
    "    car_license.append(license)"
   ]
  },
  {
   "cell_type": "code",
   "execution_count": null,
   "id": "95ef3414-9444-4dee-9ee5-da9106005184",
   "metadata": {},
   "outputs": [],
   "source": [
    "from lightTruck import lighTruck\n",
    "from crow import crow\n",
    "\n",
    "car_license=[]\n",
    "def checkNocars():\n",
    "    with open(flims,\"r\")as file\n",
    "    carData=currentRow.sport(\"\\\")\n",
    "    license_id=caraData[0]\n",
    "    car_license.append(license"
   ]
  },
  {
   "cell_type": "code",
   "execution_count": null,
   "id": "11a33f98-297f-4261-bc37-20cdcba2ed25",
   "metadata": {},
   "outputs": [],
   "source": []
  },
  {
   "cell_type": "code",
   "execution_count": null,
   "id": "ab008b5f-21fa-4ae0-a3b8-485e41e95a6a",
   "metadata": {},
   "outputs": [],
   "source": [
    "\n",
    "\n",
    "count = int(input(\"Enter number of cars : \"))\n",
    "\n",
    "for i in range(1,count+1+len(car_licenses),1):\n",
    "    license_id = \"000\"+str(i)\n",
    "\n",
    "    \n",
    "    if (license_id in car_licenses):\n",
    "        continue\n",
    "    else:\n",
    "        \n",
    "        out_str = \"Enter car type for \"+license_id+\" (0 or 1): \"\n",
    "        carType = int(input(out_str))\n",
    "        \n",
    "        carObj = None\n",
    "        if carType == 0:\n",
    "            carObj= Crown(license_id)\n",
    "            carObj.WriteTofile()\n",
    "        elif carType ==1:\n",
    "            carObj= LightTruck(license_id)\n",
    "            carObj.WriteTofile()\n",
    "        else:\n",
    "            print(\"****Please choose only available****\")\n",
    "        "
   ]
  },
  {
   "cell_type": "code",
   "execution_count": null,
   "id": "63103952-97cd-429c-8d69-e693a150ddca",
   "metadata": {},
   "outputs": [],
   "source": [
    "count=int(intput(\"Enter your name\")\n",
    "for i in range(1,count\n",
    "        if (liccense_id in car_license):\n",
    "         countinue\n",
    "         else:\n",
    "               out_str =\"Enter car type for\"+licese_id+(0 or 1):\"\n",
    "               carType=int(input(out_str))\n",
    "               \n",
    "               car obj= None\n",
    "               if carType ==0:\n",
    "                   carObj=Crow(license_id)\n",
    "                   carObj=Writer \n",
    "               \n",
    "               else: \n",
    "                  print(*******please chooose only available)\n",
    "    \n",
    "          "
   ]
  },
  {
   "cell_type": "code",
   "execution_count": null,
   "id": "b053b563-2eca-4ea6-8151-d7422a2efd69",
   "metadata": {},
   "outputs": [],
   "source": [
    "count=int(int(:enter your name\")\n",
    "              if (license_id_in car_license):\n",
    "              else:\n",
    "                 out_str=\"enter car type for \"+license_id+(0 or 1):\"\n",
    "                  carType=int(input(out_str))\n",
    "              countries\n",
    "              else:\n",
    "                 out_str=\"Enter car type for\"+license_id+(0 or 1)\n",
    "                 carType=int(int(out_str))\n",
    "              \n",
    "                   car obj=None\n",
    "                   if carType==0:\n",
    "                       carObj=Crow(license_id)\n",
    "                       carObj=Write\n",
    "              \n",
    "              else:\n",
    "                 print(*******please  chooose only available)\n",
    "              \n",
    "              \n",
    "              "
   ]
  },
  {
   "cell_type": "code",
   "execution_count": null,
   "id": "a6eeb941-7f4a-4795-abc7-751ea7fafc69",
   "metadata": {},
   "outputs": [],
   "source": [
    "count=int(int(\"enter your name\")\n",
    "          if(license_id_in car_license):\n",
    "          else:\n",
    "             out_str=\"enter car type for\"+license_id+(0 or 1)\"\n",
    "             carType=int(int(out_str))\n",
    "          countries\n",
    "          else:\n",
    "              out_str=\"enter car type for\"+License_id+(0 or 1)\n",
    "              carType=int(ou_str)\n",
    "              \n",
    "               carObj=None \n",
    "               carObj=Crow(license_id)\n",
    "               carObj=Write\n",
    "\n",
    "                  "
   ]
  },
  {
   "cell_type": "code",
   "execution_count": null,
   "id": "2bca22d9-e22b-4967-a477-e8db5530e766",
   "metadata": {},
   "outputs": [],
   "source": [
    "count = int(input(\"Enter number of cars : \"))\n",
    "\n",
    "for i in range(1,count+1+len(car_licenses),1):\n",
    "    license_id = \"000\"+str(i)\n",
    "\n",
    "    \n",
    "    if (license_id in car_licenses):\n",
    "        continue\n",
    "    else:\n",
    "        \n",
    "        out_str = \"Enter car type for \"+license_id+\" (0 or 1): \"\n",
    "        carType = int(input(out_str))\n",
    "        \n",
    "        carObj = None\n",
    "        if carType == 0:\n",
    "            carObj= Crown(license_id)\n",
    "            carObj.WriteTofile()\n",
    "        elif carType ==1:\n",
    "            carObj= LightTruck(license_id)\n",
    "            carObj.WriteTofile()"
   ]
  },
  {
   "cell_type": "code",
   "execution_count": 18,
   "id": "6bd86deb-5c6a-4719-b4a3-7c26d25fde5f",
   "metadata": {},
   "outputs": [
    {
     "ename": "SyntaxError",
     "evalue": "invalid syntax (3776961716.py, line 8)",
     "output_type": "error",
     "traceback": [
      "\u001b[1;36m  Input \u001b[1;32mIn [18]\u001b[1;36m\u001b[0m\n\u001b[1;33m    else:\u001b[0m\n\u001b[1;37m    ^\u001b[0m\n\u001b[1;31mSyntaxError\u001b[0m\u001b[1;31m:\u001b[0m invalid syntax\n"
     ]
    }
   ],
   "source": [
    "count = int(int(\"enter number of cars:\"))\n",
    "\n",
    "for i in range(1,count+1+len(car_licenses),1):\n",
    "    license_id = \"000\"+str(i)\n",
    "    \n",
    "    if (license_id in car_licenses):\n",
    "        \n",
    "           else:\n",
    "            out_str = \"Enter car type for\" +license_id+(0 + 1):\n",
    "                car_type=int(int(input(out_str))\n",
    "                 \n",
    "                carObj = None\n",
    "                if carType == 0:\n",
    "                     carObj=crow(license_id)\n",
    "                     carObj.WriteTofile()\n",
    "                elif carType==1:\n",
    "                    carObj=lightTruck(license_id)\n",
    "                    carObj.WriteTofile()\n",
    "                \n",
    "                 "
   ]
  },
  {
   "cell_type": "code",
   "execution_count": null,
   "id": "99de8878-e70e-411e-b1d4-74e1f74c6823",
   "metadata": {},
   "outputs": [],
   "source": [
    "count = int(int(\"enter number of cars:\")\n",
    "\n",
    "for i in range(1,count+1+len(car_licenses),1)\n",
    "    license_id = \"000\"+str(i)\n",
    "            \n",
    "    if (license_id in car_licenses):\n",
    "            \n",
    "        else:\n",
    "            out_str = \"Enter car type for\"+license_id\"+(0 + 1)\n",
    "                 car_type=int(int(intput(out_str))\n",
    "                        \n",
    "                  carObj = None\n",
    "                  if carType == 0\n",
    "                     carObj  = crow(license_id)\n",
    "                     carObj.WriteTofile()\n",
    "                elif carType ==1:\n",
    "                     carObj = lightTruck(license_id)\n",
    "                     carObj.WriteTiofile()"
   ]
  },
  {
   "cell_type": "code",
   "execution_count": 8,
   "id": "91c268eb-dca0-422f-a07e-723bbbebbf0d",
   "metadata": {},
   "outputs": [
    {
     "data": {
      "text/plain": [
       "['apple', 'mango']"
      ]
     },
     "execution_count": 8,
     "metadata": {},
     "output_type": "execute_result"
    }
   ],
   "source": [
    "Basket1 =[\"apple\",\"mango\"]\n",
    "Basket1 "
   ]
  },
  {
   "cell_type": "code",
   "execution_count": 10,
   "id": "c7201399-93f4-445d-8c4b-68c4d0509f92",
   "metadata": {},
   "outputs": [
    {
     "data": {
      "text/plain": [
       "['apple', 'mango', 'orange', 'orange']"
      ]
     },
     "execution_count": 10,
     "metadata": {},
     "output_type": "execute_result"
    }
   ],
   "source": [
    "Basket1.append(\"orange\")\n",
    "Basket1"
   ]
  },
  {
   "cell_type": "code",
   "execution_count": 11,
   "id": "653c2c4d-43cd-4508-a3a7-fd2f1e5d5e18",
   "metadata": {},
   "outputs": [
    {
     "data": {
      "text/plain": [
       "['apple', 'mango']"
      ]
     },
     "execution_count": 11,
     "metadata": {},
     "output_type": "execute_result"
    }
   ],
   "source": [
    "Basket1 =[\"apple\",\"mango\"]\n",
    "Basket1"
   ]
  },
  {
   "cell_type": "code",
   "execution_count": 21,
   "id": "f18f4e54-0765-41a4-b3fc-5aa2564e4e71",
   "metadata": {},
   "outputs": [
    {
     "data": {
      "text/plain": [
       "3"
      ]
     },
     "execution_count": 21,
     "metadata": {},
     "output_type": "execute_result"
    }
   ],
   "source": [
    "Number =[3,6,0,9]\n",
    "Number\n",
    "[3,6,0.9]\n",
    "Number.index(9)\n",
    "Number."
   ]
  },
  {
   "cell_type": "code",
   "execution_count": 22,
   "id": "0f3fa8c9-c0b7-4793-9781-c42b96408645",
   "metadata": {},
   "outputs": [
    {
     "data": {
      "text/plain": [
       "['apple', 'orange']"
      ]
     },
     "execution_count": 22,
     "metadata": {},
     "output_type": "execute_result"
    }
   ],
   "source": [
    "Basket  = [\"apple\",\"orange\"]\n",
    "Basket"
   ]
  },
  {
   "cell_type": "code",
   "execution_count": 27,
   "id": "d4553264-1bdb-4f2e-b9f8-6d8cc45e96b8",
   "metadata": {},
   "outputs": [
    {
     "ename": "SyntaxError",
     "evalue": "invalid syntax (978966185.py, line 1)",
     "output_type": "error",
     "traceback": [
      "\u001b[1;36m  Input \u001b[1;32mIn [27]\u001b[1;36m\u001b[0m\n\u001b[1;33m    Basket.append<\"cherry\">\u001b[0m\n\u001b[1;37m                           ^\u001b[0m\n\u001b[1;31mSyntaxError\u001b[0m\u001b[1;31m:\u001b[0m invalid syntax\n"
     ]
    }
   ],
   "source": [
    "Basket.append<\"cherry\">\n",
    "Basket"
   ]
  },
  {
   "cell_type": "code",
   "execution_count": 29,
   "id": "830acf22-577e-4507-bf01-2a814f7cdcda",
   "metadata": {},
   "outputs": [
    {
     "data": {
      "text/plain": [
       "['apple', 'orange']"
      ]
     },
     "execution_count": 29,
     "metadata": {},
     "output_type": "execute_result"
    }
   ],
   "source": [
    "Basket = [\"apple\",\"orange\"]\n",
    "Basket"
   ]
  },
  {
   "cell_type": "code",
   "execution_count": 32,
   "id": "dde932b5-edfb-4b55-a58e-f115cf4f3196",
   "metadata": {},
   "outputs": [
    {
     "data": {
      "text/plain": [
       "['apple', 'orange', 'cherry']"
      ]
     },
     "execution_count": 32,
     "metadata": {},
     "output_type": "execute_result"
    }
   ],
   "source": [
    "Basket.append(\"cherry\")\n",
    "Basket"
   ]
  },
  {
   "cell_type": "code",
   "execution_count": 34,
   "id": "7317f767-a43c-4caa-8c95-d6f439b122e3",
   "metadata": {},
   "outputs": [
    {
     "data": {
      "text/plain": [
       "'apple'"
      ]
     },
     "execution_count": 34,
     "metadata": {},
     "output_type": "execute_result"
    }
   ],
   "source": [
    "Basket[0]"
   ]
  },
  {
   "cell_type": "code",
   "execution_count": 35,
   "id": "e98f7e45-b925-48ae-9a07-abb81fa5c28b",
   "metadata": {},
   "outputs": [
    {
     "data": {
      "text/plain": [
       "['apple', 'orange', 'pieapple']"
      ]
     },
     "execution_count": 35,
     "metadata": {},
     "output_type": "execute_result"
    }
   ],
   "source": [
    "Basket=[\"apple\",\"orange\",\"pieapple\"]\n",
    "Basket"
   ]
  },
  {
   "cell_type": "code",
   "execution_count": 36,
   "id": "f3a86dd5-9553-41c5-9a48-b5306d934369",
   "metadata": {},
   "outputs": [
    {
     "data": {
      "text/plain": [
       "['apple', 'orange', 'pieapple', 'apple2']"
      ]
     },
     "execution_count": 36,
     "metadata": {},
     "output_type": "execute_result"
    }
   ],
   "source": [
    "Basket.append(\"apple2\")\n",
    "Basket"
   ]
  },
  {
   "cell_type": "code",
   "execution_count": 39,
   "id": "20277611-4ab1-4e3a-9442-c1fda0a7a7bd",
   "metadata": {},
   "outputs": [
    {
     "data": {
      "text/plain": [
       "'orange'"
      ]
     },
     "execution_count": 39,
     "metadata": {},
     "output_type": "execute_result"
    }
   ],
   "source": [
    "Basket[-2]\n",
    "Basket[1]"
   ]
  },
  {
   "cell_type": "code",
   "execution_count": 41,
   "id": "d389b63e-ffad-48e6-b217-04910d860f79",
   "metadata": {},
   "outputs": [
    {
     "ename": "TypeError",
     "evalue": "'list' object is not callable",
     "output_type": "error",
     "traceback": [
      "\u001b[1;31m---------------------------------------------------------------------------\u001b[0m",
      "\u001b[1;31mTypeError\u001b[0m                                 Traceback (most recent call last)",
      "Input \u001b[1;32mIn [41]\u001b[0m, in \u001b[0;36m<cell line: 1>\u001b[1;34m()\u001b[0m\n\u001b[1;32m----> 1\u001b[0m \u001b[43mBasket\u001b[49m\u001b[43m(\u001b[49m\u001b[38;5;124;43m\"\u001b[39;49m\u001b[38;5;124;43mapple\u001b[39;49m\u001b[38;5;124;43m\"\u001b[39;49m\u001b[43m)\u001b[49m\n",
      "\u001b[1;31mTypeError\u001b[0m: 'list' object is not callable"
     ]
    }
   ],
   "source": [
    "Basket(\"apple\")"
   ]
  },
  {
   "cell_type": "code",
   "execution_count": 46,
   "id": "6c83ba35-a447-4770-b4fe-cb2e89bf6b3f",
   "metadata": {},
   "outputs": [
    {
     "name": "stdout",
     "output_type": "stream",
     "text": [
      "apple\n",
      "orange\n",
      "pineapple\n"
     ]
    }
   ],
   "source": [
    "set =[\"apple\",\"orange\",\"pineapple\"]\n",
    "for x in set:\n",
    "   print(x)"
   ]
  },
  {
   "cell_type": "code",
   "execution_count": 49,
   "id": "aac38620-d79e-4406-80b4-b40dddb29d4a",
   "metadata": {},
   "outputs": [
    {
     "ename": "SyntaxError",
     "evalue": "invalid syntax (907836678.py, line 1)",
     "output_type": "error",
     "traceback": [
      "\u001b[1;36m  Input \u001b[1;32mIn [49]\u001b[1;36m\u001b[0m\n\u001b[1;33m    Kaung Kaung ={\"nickname\":\"double k\",\"age\":19,\"Blood\":\"o\"}\u001b[0m\n\u001b[1;37m          ^\u001b[0m\n\u001b[1;31mSyntaxError\u001b[0m\u001b[1;31m:\u001b[0m invalid syntax\n"
     ]
    }
   ],
   "source": [
    "Kaung Kaung ={\"nickname\":\"double k\",\"age\":19,\"Blood\":\"o\"}\n",
    "print(Kaung Kaung)"
   ]
  },
  {
   "cell_type": "code",
   "execution_count": null,
   "id": "8d8f7be5-c86e-4ae5-a30e-ca294d49f984",
   "metadata": {},
   "outputs": [],
   "source": [
    "Kaung Kaung ={\"nickname\":\"double k\",\"age\":19,\"Blood\":\"o\"}\n",
    "print(Kaung Kaung)"
   ]
  },
  {
   "cell_type": "code",
   "execution_count": null,
   "id": "59824271-9a53-4b73-b487-f09e6eb7cb46",
   "metadata": {},
   "outputs": [],
   "source": [
    "Dad ={\"name\":\"U Ba,\"age\":55}\n",
    "Mon ={\"name\":\"Daw mya,\"age\":51}\n",
    "parent ={\"Dad\":Dad,\"Mon\":Mon}\n",
    "print(parent)"
   ]
  }
 ],
 "metadata": {
  "kernelspec": {
   "display_name": "Python 3 (ipykernel)",
   "language": "python",
   "name": "python3"
  },
  "language_info": {
   "codemirror_mode": {
    "name": "ipython",
    "version": 3
   },
   "file_extension": ".py",
   "mimetype": "text/x-python",
   "name": "python",
   "nbconvert_exporter": "python",
   "pygments_lexer": "ipython3",
   "version": "3.9.12"
  }
 },
 "nbformat": 4,
 "nbformat_minor": 5
}
